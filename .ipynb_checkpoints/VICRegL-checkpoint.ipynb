{
 "cells": [
  {
   "cell_type": "code",
   "execution_count": 1,
   "id": "bc62b0b6-f5e6-4f22-8511-44d01af4f6a0",
   "metadata": {},
   "outputs": [],
   "source": [
    "# !pip install timm torchsummary"
   ]
  },
  {
   "cell_type": "code",
   "execution_count": 2,
   "id": "94bafc70-cba7-45db-aa5d-ac981e38d7b4",
   "metadata": {},
   "outputs": [],
   "source": [
    "# !pip3 install timm==0.3.2 #does not work in Colab"
   ]
  },
  {
   "cell_type": "code",
   "execution_count": 3,
   "id": "566d525e-6c4d-4817-803b-4ab3b77904d6",
   "metadata": {},
   "outputs": [
    {
     "name": "stdout",
     "output_type": "stream",
     "text": [
      "Requirement already satisfied: timm==0.4.12 in /usr/local/lib/python3.9/dist-packages (0.4.12)\n",
      "Requirement already satisfied: torchvision in /usr/local/lib/python3.9/dist-packages (from timm==0.4.12) (0.11.3+cu111)\n",
      "Requirement already satisfied: torch>=1.4 in /usr/local/lib/python3.9/dist-packages (from timm==0.4.12) (1.10.2+cu111)\n",
      "Requirement already satisfied: typing-extensions in /usr/local/lib/python3.9/dist-packages (from torch>=1.4->timm==0.4.12) (4.2.0)\n",
      "Requirement already satisfied: pillow!=8.3.0,>=5.3.0 in /usr/local/lib/python3.9/dist-packages (from torchvision->timm==0.4.12) (9.1.1)\n",
      "Requirement already satisfied: numpy in /usr/local/lib/python3.9/dist-packages (from torchvision->timm==0.4.12) (1.21.0)\n",
      "\u001b[33mWARNING: Running pip as the 'root' user can result in broken permissions and conflicting behaviour with the system package manager. It is recommended to use a virtual environment instead: https://pip.pypa.io/warnings/venv\u001b[0m\u001b[33m\n",
      "\u001b[0m\n",
      "\u001b[1m[\u001b[0m\u001b[34;49mnotice\u001b[0m\u001b[1;39;49m]\u001b[0m\u001b[39;49m A new release of pip available: \u001b[0m\u001b[31;49m22.3\u001b[0m\u001b[39;49m -> \u001b[0m\u001b[32;49m22.3.1\u001b[0m\n",
      "\u001b[1m[\u001b[0m\u001b[34;49mnotice\u001b[0m\u001b[1;39;49m]\u001b[0m\u001b[39;49m To update, run: \u001b[0m\u001b[32;49mpython3.9 -m pip install --upgrade pip\u001b[0m\n",
      "Note: you may need to restart the kernel to use updated packages.\n"
     ]
    }
   ],
   "source": [
    "pip install timm==0.4.12"
   ]
  },
  {
   "cell_type": "code",
   "execution_count": 4,
   "id": "52310e41-3f89-418d-b2f8-40f1a1323f95",
   "metadata": {},
   "outputs": [
    {
     "name": "stderr",
     "output_type": "stream",
     "text": [
      "Using cache found in /root/.cache/torch/hub/facebookresearch_vicregl_main\n",
      "Using cache found in /root/.cache/torch/hub/facebookresearch_vicregl_main\n"
     ]
    }
   ],
   "source": [
    "%load_ext autoreload\n",
    "%autoreload 2\n",
    "import sys\n",
    "sys.path.append(\"/mobileye/ALGO_VAST/mobileye-team-angie/andreyg/data-mining-research/data_mining_research/momo/\")\n",
    "import torch\n",
    "from utils import BBandFChead, load_momo_dataset, train_model\n",
    "\n",
    "model_vicregl_large = torch.hub.load('facebookresearch/vicregl:main', 'convnext_xlarge_alpha0p75')\n",
    "model_vicregl_resnet50 = torch.hub.load('facebookresearch/vicregl:main', 'resnet50_alpha0p9')\n",
    "\n",
    "device = torch.device('cuda' if torch.cuda.is_available() else 'cpu')"
   ]
  },
  {
   "cell_type": "code",
   "execution_count": 5,
   "id": "cf2f1bfb-99e5-41bb-88f5-46d56e2e12b8",
   "metadata": {
    "jupyter": {
     "source_hidden": true
    },
    "tags": []
   },
   "outputs": [
    {
     "name": "stderr",
     "output_type": "stream",
     "text": [
      "Using cache found in /root/.cache/torch/hub/facebookresearch_vicregl_main\n",
      "Using cache found in /root/.cache/torch/hub/facebookresearch_vicregl_main\n"
     ]
    }
   ],
   "source": [
    "model_vicregl_resnet50 = torch.hub.load('facebookresearch/vicregl:main', 'resnet50_alpha0p9')\n",
    "model_vicregl_resnet50.name = \"ResNet-50\"\n",
    "\n",
    "model_vicregl_large = torch.hub.load('facebookresearch/vicregl:main', 'convnext_xlarge_alpha0p75')\n",
    "model_vicregl_large.name = \"ConvNeXt-XL\"\n",
    "\n",
    "#freeze BB\n",
    "# for child in model_vicregl_resnet50.children():\n",
    "#     for param in child.parameters():\n",
    "#         param.requires_grad = False\n",
    "\n",
    "# for child in model_vicregl_large.children():\n",
    "#     for param in child.parameters():\n",
    "#         param.requires_grad = False\n",
    "\n",
    "# vic_resnet50_and_head = BBandFChead(model_vicregl_resnet50)\n",
    "# vic_large_and_head = BBandFChead(model_vicregl_large)"
   ]
  },
  {
   "cell_type": "code",
   "execution_count": 9,
   "id": "57ba500a-b158-4d9f-b0c0-e6220c32d19c",
   "metadata": {},
   "outputs": [
    {
     "name": "stderr",
     "output_type": "stream",
     "text": [
      "100%|█████████████████████████████████████████████████████████████████████████████████████| 4/4 [00:00<00:00, 8244.33it/s]\n",
      "100%|█████████████████████████████████████████████████████████████████████████████████████| 4/4 [00:00<00:00, 9692.21it/s]"
     ]
    },
    {
     "name": "stdout",
     "output_type": "stream",
     "text": [
      "9346338 1739545\n"
     ]
    },
    {
     "name": "stderr",
     "output_type": "stream",
     "text": [
      "\n"
     ]
    }
   ],
   "source": [
    "train_dataset, test_dataset = load_momo_dataset()"
   ]
  },
  {
   "cell_type": "code",
   "execution_count": 10,
   "id": "59e24352-db07-4bb4-88cf-8660c18df06c",
   "metadata": {},
   "outputs": [],
   "source": [
    "# for lr in [0.01, 0.001, 0.0001, 0.00001]:\n",
    "#     vic_resnet50_and_head = BBandFChead(model_vicregl_resnet50)\n",
    "#     print(f'ResNet50 with lr={lr}')\n",
    "#     train_model(vic_resnet50_and_head, train_dataset=train_dataset, test_dataset=test_dataset, lr=lr, epochs=10)"
   ]
  },
  {
   "cell_type": "code",
   "execution_count": null,
   "id": "daf4d17d-e8ab-4de3-87b9-d7dab09f077e",
   "metadata": {},
   "outputs": [
    {
     "name": "stdout",
     "output_type": "stream",
     "text": [
      "ConvNeXt-XL: train_bb False, hidden_dim 16, lr=0.001\n",
      "Step 10000: Test (11.0s): Average loss: 0.2705, Accuracy: 918/1024 (89.65%), TPR: 91.99%, TNR: 86.80%, TNR+TPR/2: 89.39%\n",
      "Step 20000: Test (10.8s): Average loss: 0.2148, Accuracy: 944/1024 (92.19%), TPR: 95.02%, TNR: 88.74%, TNR+TPR/2: 91.88%\n",
      "Step 30000: Test (10.8s): Average loss: 0.1947, Accuracy: 943/1024 (92.09%), TPR: 94.48%, TNR: 89.18%, TNR+TPR/2: 91.83%\n",
      "Step 40000: Test (10.8s): Average loss: 0.1805, Accuracy: 944/1024 (92.19%), TPR: 93.77%, TNR: 90.26%, TNR+TPR/2: 92.02%\n",
      "Step 50000: Test (10.7s): Average loss: 0.1713, Accuracy: 954/1024 (93.16%), TPR: 95.37%, TNR: 90.48%, TNR+TPR/2: 92.92%\n",
      "Step 60000: Test (10.7s): Average loss: 0.1917, Accuracy: 951/1024 (92.87%), TPR: 95.20%, TNR: 90.04%, TNR+TPR/2: 92.62%\n",
      "Step 70000: Test (10.8s): Average loss: 0.1660, Accuracy: 952/1024 (92.97%), TPR: 95.02%, TNR: 90.48%, TNR+TPR/2: 92.75%\n",
      "Step 80000: Test (10.8s): Average loss: 0.1561, Accuracy: 959/1024 (93.65%), TPR: 96.26%, TNR: 90.48%, TNR+TPR/2: 93.37%\n",
      "Step 90000: Test (10.9s): Average loss: 0.1577, Accuracy: 957/1024 (93.46%), TPR: 95.55%, TNR: 90.91%, TNR+TPR/2: 93.23%\n",
      "Step 100000: Test (10.8s): Average loss: 0.1606, Accuracy: 956/1024 (93.36%), TPR: 96.98%, TNR: 88.96%, TNR+TPR/2: 92.97%\n",
      "Step 110000: Test (10.7s): Average loss: 0.1722, Accuracy: 959/1024 (93.65%), TPR: 97.51%, TNR: 88.96%, TNR+TPR/2: 93.23%\n",
      "Step 120000: Test (10.7s): Average loss: 0.1523, Accuracy: 960/1024 (93.75%), TPR: 96.26%, TNR: 90.69%, TNR+TPR/2: 93.48%\n",
      "Step 130000: Test (10.9s): Average loss: 0.1510, Accuracy: 961/1024 (93.85%), TPR: 96.26%, TNR: 90.91%, TNR+TPR/2: 93.59%\n",
      "Step 140000: Test (10.8s): Average loss: 0.1480, Accuracy: 968/1024 (94.53%), TPR: 96.44%, TNR: 92.21%, TNR+TPR/2: 94.32%\n",
      "Step 150000: Test (10.6s): Average loss: 0.1445, Accuracy: 962/1024 (93.95%), TPR: 95.73%, TNR: 91.77%, TNR+TPR/2: 93.75%\n",
      "Step 160000: Test (10.8s): Average loss: 0.1395, Accuracy: 969/1024 (94.63%), TPR: 95.55%, TNR: 93.51%, TNR+TPR/2: 94.53%\n",
      "Step 170000: Test (10.8s): Average loss: 0.1542, Accuracy: 966/1024 (94.34%), TPR: 96.26%, TNR: 91.99%, TNR+TPR/2: 94.13%\n",
      "Step 180000: Test (10.7s): Average loss: 0.1495, Accuracy: 963/1024 (94.04%), TPR: 95.73%, TNR: 91.99%, TNR+TPR/2: 93.86%\n",
      "Step 190000: Test (10.7s): Average loss: 0.1335, Accuracy: 969/1024 (94.63%), TPR: 95.37%, TNR: 93.72%, TNR+TPR/2: 94.55%\n",
      "Step 200000: Test (10.8s): Average loss: 0.1407, Accuracy: 969/1024 (94.63%), TPR: 96.09%, TNR: 92.86%, TNR+TPR/2: 94.47%\n",
      "ConvNeXt-XL: train_bb False, hidden_dim 32, lr=0.001\n",
      "Step 10000: Test (10.9s): Average loss: 0.2473, Accuracy: 927/1024 (90.53%), TPR: 93.95%, TNR: 86.36%, TNR+TPR/2: 90.16%\n",
      "Step 20000: Test (10.7s): Average loss: 0.2091, Accuracy: 942/1024 (91.99%), TPR: 94.84%, TNR: 88.53%, TNR+TPR/2: 91.68%\n",
      "Step 30000: Test (10.7s): Average loss: 0.1748, Accuracy: 951/1024 (92.87%), TPR: 95.02%, TNR: 90.26%, TNR+TPR/2: 92.64%\n",
      "Step 40000: Test (10.9s): Average loss: 0.1714, Accuracy: 954/1024 (93.16%), TPR: 95.73%, TNR: 90.04%, TNR+TPR/2: 92.89%\n",
      "Step 50000: Test (10.8s): Average loss: 0.1594, Accuracy: 955/1024 (93.26%), TPR: 96.80%, TNR: 88.96%, TNR+TPR/2: 92.88%\n",
      "Step 60000: Test (10.8s): Average loss: 0.1614, Accuracy: 954/1024 (93.16%), TPR: 95.73%, TNR: 90.04%, TNR+TPR/2: 92.89%\n",
      "Step 70000: Test (10.8s): Average loss: 0.1890, Accuracy: 950/1024 (92.77%), TPR: 96.80%, TNR: 87.88%, TNR+TPR/2: 92.34%\n",
      "Step 80000: Test (10.8s): Average loss: 0.1456, Accuracy: 964/1024 (94.14%), TPR: 97.51%, TNR: 90.04%, TNR+TPR/2: 93.78%\n",
      "Step 90000: Test (10.6s): Average loss: 0.1629, Accuracy: 958/1024 (93.55%), TPR: 96.09%, TNR: 90.48%, TNR+TPR/2: 93.28%\n",
      "Step 100000: Test (10.9s): Average loss: 0.1744, Accuracy: 951/1024 (92.87%), TPR: 94.66%, TNR: 90.69%, TNR+TPR/2: 92.68%\n",
      "Step 110000: Test (10.8s): Average loss: 0.1551, Accuracy: 964/1024 (94.14%), TPR: 96.62%, TNR: 91.13%, TNR+TPR/2: 93.87%\n",
      "Step 120000: Test (10.8s): Average loss: 0.1503, Accuracy: 960/1024 (93.75%), TPR: 95.55%, TNR: 91.56%, TNR+TPR/2: 93.56%\n",
      "Step 130000: Test (10.8s): Average loss: 0.1572, Accuracy: 965/1024 (94.24%), TPR: 97.15%, TNR: 90.69%, TNR+TPR/2: 93.92%\n",
      "Step 140000: Test (10.8s): Average loss: 0.1350, Accuracy: 972/1024 (94.92%), TPR: 96.44%, TNR: 93.07%, TNR+TPR/2: 94.76%\n",
      "Step 150000: Test (10.8s): Average loss: 0.1438, Accuracy: 971/1024 (94.82%), TPR: 96.98%, TNR: 92.21%, TNR+TPR/2: 94.59%\n",
      "Step 160000: Test (10.7s): Average loss: 0.1479, Accuracy: 964/1024 (94.14%), TPR: 95.20%, TNR: 92.86%, TNR+TPR/2: 94.03%\n",
      "Step 170000: Test (10.8s): Average loss: 0.1408, Accuracy: 971/1024 (94.82%), TPR: 96.80%, TNR: 92.42%, TNR+TPR/2: 94.61%\n",
      "Step 180000: Test (10.9s): Average loss: 0.1361, Accuracy: 973/1024 (95.02%), TPR: 96.44%, TNR: 93.29%, TNR+TPR/2: 94.87%\n",
      "Step 190000: Test (10.7s): Average loss: 0.1399, Accuracy: 967/1024 (94.43%), TPR: 95.91%, TNR: 92.64%, TNR+TPR/2: 94.27%\n",
      "Step 200000: Test (10.8s): Average loss: 0.1330, Accuracy: 970/1024 (94.73%), TPR: 96.80%, TNR: 92.21%, TNR+TPR/2: 94.50%\n",
      "ConvNeXt-XL: train_bb False, hidden_dim 64, lr=0.001\n",
      "Step 10000: Test (10.8s): Average loss: 0.2163, Accuracy: 945/1024 (92.29%), TPR: 95.73%, TNR: 88.10%, TNR+TPR/2: 91.91%\n",
      "Step 20000: Test (10.7s): Average loss: 0.2005, Accuracy: 941/1024 (91.89%), TPR: 94.84%, TNR: 88.31%, TNR+TPR/2: 91.58%\n",
      "Step 30000: Test (10.8s): Average loss: 0.1670, Accuracy: 957/1024 (93.46%), TPR: 96.44%, TNR: 89.83%, TNR+TPR/2: 93.13%\n",
      "Step 40000: Test (10.9s): Average loss: 0.1661, Accuracy: 957/1024 (93.46%), TPR: 96.26%, TNR: 90.04%, TNR+TPR/2: 93.15%\n",
      "Step 50000: Test (10.8s): Average loss: 0.1608, Accuracy: 958/1024 (93.55%), TPR: 96.98%, TNR: 89.39%, TNR+TPR/2: 93.18%\n",
      "Step 60000: Test (10.6s): Average loss: 0.1572, Accuracy: 958/1024 (93.55%), TPR: 95.02%, TNR: 91.77%, TNR+TPR/2: 93.40%\n",
      "Step 70000: Test (10.8s): Average loss: 0.1536, Accuracy: 964/1024 (94.14%), TPR: 97.86%, TNR: 89.61%, TNR+TPR/2: 93.74%\n",
      "Step 80000: Test (10.9s): Average loss: 0.1449, Accuracy: 967/1024 (94.43%), TPR: 95.91%, TNR: 92.64%, TNR+TPR/2: 94.27%\n",
      "Step 90000: Test (10.7s): Average loss: 0.1455, Accuracy: 971/1024 (94.82%), TPR: 98.04%, TNR: 90.91%, TNR+TPR/2: 94.48%\n",
      "Step 100000: Test (10.8s): Average loss: 0.1539, Accuracy: 966/1024 (94.34%), TPR: 96.98%, TNR: 91.13%, TNR+TPR/2: 94.05%\n",
      "Step 110000: Test (10.9s): Average loss: 0.1317, Accuracy: 974/1024 (95.12%), TPR: 98.40%, TNR: 91.13%, TNR+TPR/2: 94.76%\n",
      "Step 120000: Test (10.7s): Average loss: 0.1443, Accuracy: 974/1024 (95.12%), TPR: 98.58%, TNR: 90.91%, TNR+TPR/2: 94.74%\n",
      "Step 130000: Test (10.8s): Average loss: 0.1217, Accuracy: 978/1024 (95.51%), TPR: 97.69%, TNR: 92.86%, TNR+TPR/2: 95.27%\n",
      "Step 140000: Test (10.8s): Average loss: 0.1252, Accuracy: 974/1024 (95.12%), TPR: 97.15%, TNR: 92.64%, TNR+TPR/2: 94.90%\n",
      "Step 150000: Test (11.0s): Average loss: 0.1357, Accuracy: 973/1024 (95.02%), TPR: 97.51%, TNR: 91.99%, TNR+TPR/2: 94.75%\n",
      "Step 160000: Test (10.7s): Average loss: 0.1280, Accuracy: 978/1024 (95.51%), TPR: 97.69%, TNR: 92.86%, TNR+TPR/2: 95.27%\n",
      "Step 170000: Test (10.8s): Average loss: 0.1669, Accuracy: 971/1024 (94.82%), TPR: 98.04%, TNR: 90.91%, TNR+TPR/2: 94.48%\n",
      "Step 180000: Test (10.9s): Average loss: 0.1431, Accuracy: 973/1024 (95.02%), TPR: 97.86%, TNR: 91.56%, TNR+TPR/2: 94.71%\n",
      "Step 190000: Test (10.8s): Average loss: 0.1372, Accuracy: 973/1024 (95.02%), TPR: 97.15%, TNR: 92.42%, TNR+TPR/2: 94.79%\n",
      "Step 200000: Test (10.7s): Average loss: 0.1497, Accuracy: 971/1024 (94.82%), TPR: 97.86%, TNR: 91.13%, TNR+TPR/2: 94.50%\n",
      "ConvNeXt-XL: train_bb True, hidden_dim 16, lr=0.001\n",
      "Step 10000: Test (36.9s): Average loss: 0.7553, Accuracy: 562/1024 (54.88%), TPR: 100.00%, TNR: 0.00%, TNR+TPR/2: 50.00%\n",
      "Step 20000: Test (37.0s): Average loss: 0.7488, Accuracy: 562/1024 (54.88%), TPR: 100.00%, TNR: 0.00%, TNR+TPR/2: 50.00%\n",
      "Step 30000: Test (36.9s): Average loss: 0.7430, Accuracy: 562/1024 (54.88%), TPR: 100.00%, TNR: 0.00%, TNR+TPR/2: 50.00%\n",
      "Step 40000: Test (36.9s): Average loss: 0.7386, Accuracy: 562/1024 (54.88%), TPR: 100.00%, TNR: 0.00%, TNR+TPR/2: 50.00%\n",
      "Step 50000: Test (36.8s): Average loss: 0.7374, Accuracy: 562/1024 (54.88%), TPR: 100.00%, TNR: 0.00%, TNR+TPR/2: 50.00%\n",
      "Step 60000: Test (36.6s): Average loss: 0.7433, Accuracy: 562/1024 (54.88%), TPR: 100.00%, TNR: 0.00%, TNR+TPR/2: 50.00%\n",
      "Step 70000: Test (36.7s): Average loss: 0.7308, Accuracy: 562/1024 (54.88%), TPR: 100.00%, TNR: 0.00%, TNR+TPR/2: 50.00%\n",
      "Step 80000: Test (36.6s): Average loss: 0.7290, Accuracy: 562/1024 (54.88%), TPR: 100.00%, TNR: 0.00%, TNR+TPR/2: 50.00%\n",
      "Step 90000: Test (36.7s): Average loss: 0.7323, Accuracy: 562/1024 (54.88%), TPR: 100.00%, TNR: 0.00%, TNR+TPR/2: 50.00%\n",
      "Step 100000: Test (36.7s): Average loss: 0.7331, Accuracy: 562/1024 (54.88%), TPR: 100.00%, TNR: 0.00%, TNR+TPR/2: 50.00%\n",
      "Step 110000: Test (36.9s): Average loss: 0.7293, Accuracy: 562/1024 (54.88%), TPR: 100.00%, TNR: 0.00%, TNR+TPR/2: 50.00%\n"
     ]
    }
   ],
   "source": [
    "for train_bb in [False]:\n",
    "    for model in [model_vicregl_large]:\n",
    "        for hidden_dim in [16, 32, 64]:\n",
    "            for lr in [0.001]:\n",
    "                curr_model = BBandFChead(model, hidden_dim=hidden_dim, train_bb=train_bb)\n",
    "                print(f'{model.name}: train_bb {train_bb}, hidden_dim {hidden_dim}, lr={lr}')\n",
    "                train_model(curr_model, train_dataset=train_dataset, test_dataset=test_dataset, lr=lr, epochs=20)"
   ]
  },
  {
   "cell_type": "code",
   "execution_count": null,
   "id": "94ed51a6-1d3a-411a-bea4-74f3add12e5b",
   "metadata": {},
   "outputs": [],
   "source": [
    "from src.models import modified_res18\n",
    "\n",
    "for lr in [0.001]:\n",
    "    res18 = modified_res18()\n",
    "    print(f'ResNet18 with lr={lr}')\n",
    "    train_model(res18, train_dataset=train_dataset, test_dataset=test_dataset, lr=lr, epochs=20)"
   ]
  },
  {
   "cell_type": "code",
   "execution_count": null,
   "id": "1c353d91-d29e-4d27-a984-5a0097259b56",
   "metadata": {
    "tags": []
   },
   "outputs": [],
   "source": [
    "# from utils import train_epoch\n",
    "# from utils import test\n",
    "# from src.models import modified_res18\n",
    "\n",
    "# res18 = modified_res18()\n",
    "# train_model(res18, train_dataset, test_dataset)"
   ]
  },
  {
   "cell_type": "code",
   "execution_count": null,
   "id": "3d407488-b0cb-491e-8e0a-5e2bf1ddb225",
   "metadata": {},
   "outputs": [],
   "source": [
    "# train_model(vic_large_and_head, train_dataset, test_dataset)"
   ]
  },
  {
   "cell_type": "code",
   "execution_count": null,
   "id": "ed11255d-811a-4c8a-b791-a1d5d8515d57",
   "metadata": {},
   "outputs": [],
   "source": [
    "import matplotlib.pyplot as plt\n",
    "for data, _, target, _, _ in test_dataloader:\n",
    "    break\n",
    "data = data.to(device)\n",
    "pred = model(data)"
   ]
  },
  {
   "cell_type": "code",
   "execution_count": null,
   "id": "86983b39-083f-4e7d-8821-16f38bce8562",
   "metadata": {},
   "outputs": [],
   "source": [
    "!pip install torchsummary"
   ]
  },
  {
   "cell_type": "code",
   "execution_count": null,
   "id": "91d5a978-8d1d-4d05-ba70-7fac5ef0184f",
   "metadata": {},
   "outputs": [],
   "source": [
    "f, axes = plt.subplots(3,3, figsize=(15, 15))\n",
    "f.fig_size = [12,12]\n",
    "for i, ax in enumerate(axes.flatten()):\n",
    "    ax.imshow(data[i,0].cpu(), cmap='gray')\n",
    "    ax.title.set_text(pred[i].cpu().detach().numpy())"
   ]
  }
 ],
 "metadata": {
  "kernelspec": {
   "display_name": "Python 3 (ipykernel)",
   "language": "python",
   "name": "python3"
  },
  "language_info": {
   "codemirror_mode": {
    "name": "ipython",
    "version": 3
   },
   "file_extension": ".py",
   "mimetype": "text/x-python",
   "name": "python",
   "nbconvert_exporter": "python",
   "pygments_lexer": "ipython3",
   "version": "3.9.13"
  },
  "vscode": {
   "interpreter": {
    "hash": "8a5edab282632443219e051e4ade2d1d5bbc671c781051bf1437897cbdfea0f1"
   }
  }
 },
 "nbformat": 4,
 "nbformat_minor": 5
}
