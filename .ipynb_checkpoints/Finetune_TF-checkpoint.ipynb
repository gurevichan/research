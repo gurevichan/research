{
 "cells": [
  {
   "cell_type": "code",
   "execution_count": 1,
   "id": "05613741-670c-4982-af0d-b2223d6710c3",
   "metadata": {
    "execution": {
     "iopub.execute_input": "2022-11-14T06:39:07.238116Z",
     "iopub.status.busy": "2022-11-14T06:39:07.237964Z",
     "iopub.status.idle": "2022-11-14T06:39:10.167572Z",
     "shell.execute_reply": "2022-11-14T06:39:10.167010Z",
     "shell.execute_reply.started": "2022-11-14T06:39:07.238082Z"
    },
    "tags": []
   },
   "outputs": [],
   "source": [
    "import tensorflow as tf\n",
    "import tensorflow_datasets as tfds\n",
    "\n",
    "# # Construct a tf.data.Dataset\n",
    "# ds = tfds.load('vtab', split='train', shuffle_files=True)\n"
   ]
  },
  {
   "cell_type": "code",
   "execution_count": 8,
   "id": "88b2e015-5e86-449a-8598-fdf635b84537",
   "metadata": {
    "tags": []
   },
   "outputs": [],
   "source": [
    "from task_adaptation.data.caltech import Caltech101\n",
    "from task_adaptation.data_loader import get_dataset_instance\n",
    "\n",
    "dataset = \"caltech101\"\n",
    "dataset_train_split_name = \"trainval\"\n",
    "                  # [\"train\", \"val\", \"trainval\", \"test\"],\n",
    "                  # \"Dataset train split name.\")\n",
    "dataset_eval_split_name = \"test\"\n",
    "                  # [\"train\", \"val\", \"trainval\", \"test\"],\n",
    "                  # \"Dataset evaluation split name.\")\n",
    "shuffle_buffer_size = 10000\n",
    "                     # \"A size of the shuffle buffer.\")\n",
    "prefetch = 1000\n",
    "                     # \"How many batches to prefetch in the input pipeline.\")\n",
    "train_examples = None\n",
    "                     # \"How many training examples to use. Defaults to all.\")\n",
    "batch_size = None\n",
    "batch_size_eval = None"
   ]
  },
  {
   "cell_type": "code",
   "execution_count": 7,
   "id": "af898313-3b01-45bd-a972-495c2f49c6df",
   "metadata": {
    "execution": {
     "iopub.execute_input": "2022-11-14T06:40:28.352953Z",
     "iopub.status.busy": "2022-11-14T06:40:28.352420Z",
     "iopub.status.idle": "2022-11-14T06:40:28.366050Z",
     "shell.execute_reply": "2022-11-14T06:40:28.365491Z",
     "shell.execute_reply.started": "2022-11-14T06:40:28.352935Z"
    },
    "tags": []
   },
   "outputs": [
    {
     "ename": "AttributeError",
     "evalue": "run_adaptation",
     "output_type": "error",
     "traceback": [
      "\u001b[0;31m---------------------------------------------------------------------------\u001b[0m",
      "\u001b[0;31mAttributeError\u001b[0m                            Traceback (most recent call last)",
      "Input \u001b[0;32mIn [7]\u001b[0m, in \u001b[0;36m<cell line: 1>\u001b[0;34m()\u001b[0m\n\u001b[0;32m----> 1\u001b[0m \u001b[43mFLAGS\u001b[49m\u001b[38;5;241;43m.\u001b[39;49m\u001b[43mrun_adaptation\u001b[49m\n",
      "File \u001b[0;32m~/.conda/envs/tf/lib/python3.10/site-packages/absl/flags/_flagvalues.py:471\u001b[0m, in \u001b[0;36mFlagValues.__getattr__\u001b[0;34m(self, name)\u001b[0m\n\u001b[1;32m    469\u001b[0m fl \u001b[38;5;241m=\u001b[39m \u001b[38;5;28mself\u001b[39m\u001b[38;5;241m.\u001b[39m_flags()\n\u001b[1;32m    470\u001b[0m \u001b[38;5;28;01mif\u001b[39;00m name \u001b[38;5;129;01mnot\u001b[39;00m \u001b[38;5;129;01min\u001b[39;00m fl:\n\u001b[0;32m--> 471\u001b[0m   \u001b[38;5;28;01mraise\u001b[39;00m \u001b[38;5;167;01mAttributeError\u001b[39;00m(name)\n\u001b[1;32m    472\u001b[0m \u001b[38;5;28;01mif\u001b[39;00m name \u001b[38;5;129;01min\u001b[39;00m \u001b[38;5;28mself\u001b[39m\u001b[38;5;241m.\u001b[39m\u001b[38;5;18m__dict__\u001b[39m[\u001b[38;5;124m'\u001b[39m\u001b[38;5;124m__hiddenflags\u001b[39m\u001b[38;5;124m'\u001b[39m]:\n\u001b[1;32m    473\u001b[0m   \u001b[38;5;28;01mraise\u001b[39;00m \u001b[38;5;167;01mAttributeError\u001b[39;00m(name)\n",
      "\u001b[0;31mAttributeError\u001b[0m: run_adaptation"
     ]
    }
   ],
   "source": [
    "FLAGS.run_adaptation"
   ]
  },
  {
   "cell_type": "code",
   "execution_count": 4,
   "id": "37e46f36-962d-4e1b-9b23-b5d5ec40c364",
   "metadata": {
    "execution": {
     "iopub.execute_input": "2022-11-14T06:39:18.278542Z",
     "iopub.status.busy": "2022-11-14T06:39:18.278208Z",
     "iopub.status.idle": "2022-11-14T06:39:18.375334Z",
     "shell.execute_reply": "2022-11-14T06:39:18.374770Z",
     "shell.execute_reply.started": "2022-11-14T06:39:18.278526Z"
    },
    "tags": []
   },
   "outputs": [
    {
     "ename": "UnparsedFlagAccessError",
     "evalue": "Trying to access flag --dataset before flags were parsed.",
     "output_type": "error",
     "traceback": [
      "\u001b[0;31m---------------------------------------------------------------------------\u001b[0m",
      "\u001b[0;31mUnparsedFlagAccessError\u001b[0m                   Traceback (most recent call last)",
      "Input \u001b[0;32mIn [4]\u001b[0m, in \u001b[0;36m<cell line: 2>\u001b[0;34m()\u001b[0m\n\u001b[1;32m      1\u001b[0m data_params \u001b[38;5;241m=\u001b[39m {\n\u001b[0;32m----> 2\u001b[0m       \u001b[38;5;124m\"\u001b[39m\u001b[38;5;124mdataset\u001b[39m\u001b[38;5;124m\"\u001b[39m: \u001b[38;5;124m\"\u001b[39m\u001b[38;5;124mdata.\u001b[39m\u001b[38;5;124m\"\u001b[39m \u001b[38;5;241m+\u001b[39m \u001b[43mFLAGS\u001b[49m\u001b[38;5;241;43m.\u001b[39;49m\u001b[43mdataset\u001b[49m,\n\u001b[1;32m      3\u001b[0m       \u001b[38;5;124m\"\u001b[39m\u001b[38;5;124mdataset_train_split_name\u001b[39m\u001b[38;5;124m\"\u001b[39m: FLAGS\u001b[38;5;241m.\u001b[39mdataset_train_split_name,\n\u001b[1;32m      4\u001b[0m       \u001b[38;5;124m\"\u001b[39m\u001b[38;5;124mdataset_eval_split_name\u001b[39m\u001b[38;5;124m\"\u001b[39m: FLAGS\u001b[38;5;241m.\u001b[39mdataset_eval_split_name,\n\u001b[1;32m      5\u001b[0m       \u001b[38;5;124m\"\u001b[39m\u001b[38;5;124mshuffle_buffer_size\u001b[39m\u001b[38;5;124m\"\u001b[39m: FLAGS\u001b[38;5;241m.\u001b[39mshuffle_buffer_size,\n\u001b[1;32m      6\u001b[0m       \u001b[38;5;124m\"\u001b[39m\u001b[38;5;124mprefetch\u001b[39m\u001b[38;5;124m\"\u001b[39m: FLAGS\u001b[38;5;241m.\u001b[39mprefetch,\n\u001b[1;32m      7\u001b[0m       \u001b[38;5;124m\"\u001b[39m\u001b[38;5;124mtrain_examples\u001b[39m\u001b[38;5;124m\"\u001b[39m: FLAGS\u001b[38;5;241m.\u001b[39mtrain_examples,\n\u001b[1;32m      8\u001b[0m       \u001b[38;5;124m\"\u001b[39m\u001b[38;5;124mbatch_size\u001b[39m\u001b[38;5;124m\"\u001b[39m: FLAGS\u001b[38;5;241m.\u001b[39mbatch_size,\n\u001b[1;32m      9\u001b[0m       \u001b[38;5;124m\"\u001b[39m\u001b[38;5;124mbatch_size_eval\u001b[39m\u001b[38;5;124m\"\u001b[39m: FLAGS\u001b[38;5;241m.\u001b[39mbatch_size_eval,\n\u001b[1;32m     10\u001b[0m       \u001b[38;5;124m\"\u001b[39m\u001b[38;5;124mdata_for_eval\u001b[39m\u001b[38;5;124m\"\u001b[39m: mode \u001b[38;5;241m==\u001b[39m \u001b[38;5;124m\"\u001b[39m\u001b[38;5;124madaptation\u001b[39m\u001b[38;5;124m\"\u001b[39m,\n\u001b[1;32m     11\u001b[0m       \u001b[38;5;124m\"\u001b[39m\u001b[38;5;124mdata_dir\u001b[39m\u001b[38;5;124m\"\u001b[39m: FLAGS\u001b[38;5;241m.\u001b[39mdata_dir,\n\u001b[1;32m     12\u001b[0m       \u001b[38;5;124m\"\u001b[39m\u001b[38;5;124minput_range\u001b[39m\u001b[38;5;124m\"\u001b[39m: [\u001b[38;5;28mfloat\u001b[39m(v) \u001b[38;5;28;01mfor\u001b[39;00m v \u001b[38;5;129;01min\u001b[39;00m FLAGS\u001b[38;5;241m.\u001b[39minput_range]}\n",
      "File \u001b[0;32m~/.conda/envs/tf/lib/python3.10/site-packages/absl/flags/_flagvalues.py:478\u001b[0m, in \u001b[0;36mFlagValues.__getattr__\u001b[0;34m(self, name)\u001b[0m\n\u001b[1;32m    476\u001b[0m   \u001b[38;5;28;01mreturn\u001b[39;00m fl[name]\u001b[38;5;241m.\u001b[39mvalue\n\u001b[1;32m    477\u001b[0m \u001b[38;5;28;01melse\u001b[39;00m:\n\u001b[0;32m--> 478\u001b[0m   \u001b[38;5;28;01mraise\u001b[39;00m _exceptions\u001b[38;5;241m.\u001b[39mUnparsedFlagAccessError(\n\u001b[1;32m    479\u001b[0m       \u001b[38;5;124m'\u001b[39m\u001b[38;5;124mTrying to access flag --\u001b[39m\u001b[38;5;132;01m%s\u001b[39;00m\u001b[38;5;124m before flags were parsed.\u001b[39m\u001b[38;5;124m'\u001b[39m \u001b[38;5;241m%\u001b[39m name)\n",
      "\u001b[0;31mUnparsedFlagAccessError\u001b[0m: Trying to access flag --dataset before flags were parsed."
     ]
    }
   ],
   "source": [
    "data_params = {\n",
    "      \"dataset\": \"data.\" + dataset,\n",
    "      \"dataset_train_split_name\": dataset_train_split_name,\n",
    "      \"dataset_eval_split_name\": dataset_eval_split_name,\n",
    "      \"shuffle_buffer_size\": shuffle_buffer_size,\n",
    "      \"prefetch\": prefetch,\n",
    "      \"train_examples\": train_examples,\n",
    "      \"batch_size\": batch_size,\n",
    "      \"batch_size_eval\": batch_size_eval,\n",
    "      \"data_for_eval\": mode == \"adaptation\",\n",
    "      \"data_dir\": data_dir,\n",
    "      \"input_range\": [float(v) for v in FLAGS.input_range]}"
   ]
  },
  {
   "cell_type": "code",
   "execution_count": null,
   "id": "a420a641-0820-4541-8ffe-3c46175fd180",
   "metadata": {
    "execution": {
     "iopub.status.busy": "2022-11-14T06:39:10.503341Z",
     "iopub.status.idle": "2022-11-14T06:39:10.503688Z",
     "shell.execute_reply": "2022-11-14T06:39:10.503594Z",
     "shell.execute_reply.started": "2022-11-14T06:39:10.503585Z"
    },
    "tags": []
   },
   "outputs": [],
   "source": [
    "caltech_ds = get_dataset_instance('caltech')"
   ]
  },
  {
   "cell_type": "code",
   "execution_count": null,
   "id": "6d21da07-82ff-4e78-bcbd-52d0486ff8a1",
   "metadata": {},
   "outputs": [],
   "source": []
  }
 ],
 "metadata": {
  "kernelspec": {
   "display_name": "tf",
   "language": "python",
   "name": "tf"
  },
  "language_info": {
   "codemirror_mode": {
    "name": "ipython",
    "version": 3
   },
   "file_extension": ".py",
   "mimetype": "text/x-python",
   "name": "python",
   "nbconvert_exporter": "python",
   "pygments_lexer": "ipython3",
   "version": "3.10.5"
  }
 },
 "nbformat": 4,
 "nbformat_minor": 5
}
