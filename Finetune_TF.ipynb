{
 "cells": [
  {
   "cell_type": "code",
   "execution_count": 1,
   "id": "05613741-670c-4982-af0d-b2223d6710c3",
   "metadata": {
    "execution": {
     "iopub.execute_input": "2022-11-14T06:39:07.238116Z",
     "iopub.status.busy": "2022-11-14T06:39:07.237964Z",
     "iopub.status.idle": "2022-11-14T06:39:10.167572Z",
     "shell.execute_reply": "2022-11-14T06:39:10.167010Z",
     "shell.execute_reply.started": "2022-11-14T06:39:07.238082Z"
    },
    "tags": []
   },
   "outputs": [],
   "source": [
    "import tensorflow as tf\n",
    "import tensorflow_datasets as tfds\n",
    "\n",
    "# # Construct a tf.data.Dataset\n",
    "# ds = tfds.load('vtab', split='train', shuffle_files=True)\n"
   ]
  },
  {
   "cell_type": "code",
   "execution_count": 11,
   "id": "88b2e015-5e86-449a-8598-fdf635b84537",
   "metadata": {
    "tags": []
   },
   "outputs": [],
   "source": [
    "from task_adaptation.data.caltech import Caltech101\n",
    "from task_adaptation.data_loader import get_dataset_instance\n",
    "\n",
    "dataset = \"caltech101\"\n",
    "dataset_train_split_name = \"trainval\"\n",
    "                  # [\"train\", \"val\", \"trainval\", \"test\"],\n",
    "                  # \"Dataset train split name.\")\n",
    "dataset_eval_split_name = \"test\"\n",
    "                  # [\"train\", \"val\", \"trainval\", \"test\"],\n",
    "                  # \"Dataset evaluation split name.\")\n",
    "shuffle_buffer_size = 10000\n",
    "                     # \"A size of the shuffle buffer.\")\n",
    "prefetch = 1000\n",
    "                     # \"How many batches to prefetch in the input pipeline.\")\n",
    "train_examples = None\n",
    "                     # \"How many training examples to use. Defaults to all.\")\n",
    "batch_size = None\n",
    "batch_size_eval = None"
   ]
  },
  {
   "cell_type": "code",
   "execution_count": 14,
   "id": "37e46f36-962d-4e1b-9b23-b5d5ec40c364",
   "metadata": {
    "tags": []
   },
   "outputs": [],
   "source": [
    "data_params = {\n",
    "      \"dataset\": \"data.\" + dataset,\n",
    "      \"dataset_train_split_name\": dataset_train_split_name,\n",
    "      \"dataset_eval_split_name\": dataset_eval_split_name,\n",
    "      \"shuffle_buffer_size\": shuffle_buffer_size,\n",
    "      \"prefetch\": prefetch,\n",
    "      \"train_examples\": train_examples,\n",
    "      \"batch_size\": batch_size,\n",
    "      \"batch_size_eval\": batch_size_eval,\n",
    "      \"data_for_eval\": False,\n",
    "      \"data_dir\": \"/tmp/data/\",\n",
    "      \"input_range\": [float(v) for v in [0.0,1.0]]}"
   ]
  },
  {
   "cell_type": "code",
   "execution_count": 15,
   "id": "a420a641-0820-4541-8ffe-3c46175fd180",
   "metadata": {
    "tags": []
   },
   "outputs": [
    {
     "name": "stderr",
     "output_type": "stream",
     "text": [
      "2022-11-14 06:44:53.875687: W tensorflow/core/platform/cloud/google_auth_provider.cc:184] All attempts to get a Google authentication bearer token failed, returning an empty token. Retrieving token from files failed with \"NOT_FOUND: Could not locate the credentials file.\". Retrieving token from GCE failed with \"FAILED_PRECONDITION: Error executing an HTTP request: libcurl code 6 meaning 'Couldn't resolve host name', error details: Could not resolve host: metadata\".\n"
     ]
    },
    {
     "name": "stdout",
     "output_type": "stream",
     "text": [
      "\u001b[1mDownloading and preparing dataset 125.64 MiB (download: 125.64 MiB, generated: 132.86 MiB, total: 258.50 MiB) to /tmp/data/caltech101/3.0.1...\u001b[0m\n"
     ]
    },
    {
     "data": {
      "application/vnd.jupyter.widget-view+json": {
       "model_id": "88a2001d3d7b4e9b9ed31382fcbf2688",
       "version_major": 2,
       "version_minor": 0
      },
      "text/plain": [
       "Dl Completed...: 0 url [00:00, ? url/s]"
      ]
     },
     "metadata": {},
     "output_type": "display_data"
    },
    {
     "data": {
      "application/vnd.jupyter.widget-view+json": {
       "model_id": "033c268e4d0c46578d49840a0243cfd1",
       "version_major": 2,
       "version_minor": 0
      },
      "text/plain": [
       "Dl Size...: 0 MiB [00:00, ? MiB/s]"
      ]
     },
     "metadata": {},
     "output_type": "display_data"
    },
    {
     "data": {
      "application/vnd.jupyter.widget-view+json": {
       "model_id": "f2c8cca8ca734424851c772f59d99f69",
       "version_major": 2,
       "version_minor": 0
      },
      "text/plain": [
       "Extraction completed...: 0 file [00:00, ? file/s]"
      ]
     },
     "metadata": {},
     "output_type": "display_data"
    },
    {
     "name": "stderr",
     "output_type": "stream",
     "text": [
      "IOPub message rate exceeded.\n",
      "The Jupyter server will temporarily stop sending output\n",
      "to the client in order to avoid crashing it.\n",
      "To change this limit, set the config variable\n",
      "`--ServerApp.iopub_msg_rate_limit`.\n",
      "\n",
      "Current values:\n",
      "ServerApp.iopub_msg_rate_limit=1000.0 (msgs/sec)\n",
      "ServerApp.rate_limit_window=3.0 (secs)\n",
      "\n",
      "IOPub message rate exceeded.\n",
      "The Jupyter server will temporarily stop sending output\n",
      "to the client in order to avoid crashing it.\n",
      "To change this limit, set the config variable\n",
      "`--ServerApp.iopub_msg_rate_limit`.\n",
      "\n",
      "Current values:\n",
      "ServerApp.iopub_msg_rate_limit=1000.0 (msgs/sec)\n",
      "ServerApp.rate_limit_window=3.0 (secs)\n",
      "\n",
      "IOPub message rate exceeded.\n",
      "The Jupyter server will temporarily stop sending output\n",
      "to the client in order to avoid crashing it.\n",
      "To change this limit, set the config variable\n",
      "`--ServerApp.iopub_msg_rate_limit`.\n",
      "\n",
      "Current values:\n",
      "ServerApp.iopub_msg_rate_limit=1000.0 (msgs/sec)\n",
      "ServerApp.rate_limit_window=3.0 (secs)\n",
      "\n"
     ]
    },
    {
     "data": {
      "application/vnd.jupyter.widget-view+json": {
       "model_id": "",
       "version_major": 2,
       "version_minor": 0
      },
      "text/plain": [
       "Generating splits...:   0%|          | 0/2 [00:00<?, ? splits/s]"
      ]
     },
     "metadata": {},
     "output_type": "display_data"
    },
    {
     "data": {
      "application/vnd.jupyter.widget-view+json": {
       "model_id": "",
       "version_major": 2,
       "version_minor": 0
      },
      "text/plain": [
       "Generating train examples...:   0%|          | 0/3060 [00:00<?, ? examples/s]"
      ]
     },
     "metadata": {},
     "output_type": "display_data"
    },
    {
     "data": {
      "application/vnd.jupyter.widget-view+json": {
       "model_id": "",
       "version_major": 2,
       "version_minor": 0
      },
      "text/plain": [
       "Shuffling /tmp/data/caltech101/3.0.1.incompleteXR9POQ/caltech101-train.tfrecord*...:   0%|          | 0/3060 […"
      ]
     },
     "metadata": {},
     "output_type": "display_data"
    },
    {
     "data": {
      "application/vnd.jupyter.widget-view+json": {
       "model_id": "",
       "version_major": 2,
       "version_minor": 0
      },
      "text/plain": [
       "Generating test examples...:   0%|          | 0/6084 [00:00<?, ? examples/s]"
      ]
     },
     "metadata": {},
     "output_type": "display_data"
    },
    {
     "data": {
      "application/vnd.jupyter.widget-view+json": {
       "model_id": "",
       "version_major": 2,
       "version_minor": 0
      },
      "text/plain": [
       "Shuffling /tmp/data/caltech101/3.0.1.incompleteXR9POQ/caltech101-test.tfrecord*...:   0%|          | 0/6084 [0…"
      ]
     },
     "metadata": {},
     "output_type": "display_data"
    },
    {
     "name": "stdout",
     "output_type": "stream",
     "text": [
      "\u001b[1mDataset caltech101 downloaded and prepared to /tmp/data/caltech101/3.0.1. Subsequent calls will reuse this data.\u001b[0m\n"
     ]
    }
   ],
   "source": [
    "caltech_ds = get_dataset_instance(data_params)"
   ]
  },
  {
   "cell_type": "code",
   "execution_count": 18,
   "id": "6d21da07-82ff-4e78-bcbd-52d0486ff8a1",
   "metadata": {},
   "outputs": [
    {
     "data": {
      "text/plain": [
       "\u001b[0;31mType:\u001b[0m            _NewClass\n",
       "\u001b[0;31mString form:\u001b[0m     <task_adaptation.registry.partialclass.<locals>._NewClass object at 0x7fcff5a964d0>\n",
       "\u001b[0;31mFile:\u001b[0m            /home/jovyan/finetune/task_adaptation/task_adaptation/registry.py\n",
       "\u001b[0;31mDocstring:\u001b[0m       <no docstring>\n",
       "\u001b[0;31mClass docstring:\u001b[0m\n",
       "Provides the Caltech101 dataset.\n",
       "\n",
       "See the base class for additional details on the class.\n",
       "\n",
       "See TFDS dataset for details on the dataset:\n",
       "third_party/py/tensorflow_datasets/image/caltech.py\n",
       "\n",
       "The original (TFDS) dataset contains only a train and test split. We randomly\n",
       "sample _TRAIN_SPLIT_PERCENT% of the train split for our \"train\" set. The\n",
       "remainder of the TFDS train split becomes our \"val\" set. The full TFDS train\n",
       "split is called \"trainval\". The TFDS test split is used as our test set.\n",
       "\n",
       "Note that, in the TFDS dataset, the training split is class-balanced, but not\n",
       "the test split. Therefore, a significant difference between performance on the\n",
       "\"val\" and \"test\" sets should be expected.\n",
       "\u001b[0;31mInit docstring:\u001b[0m \n",
       "Initializer for the base ImageData class.\n",
       "\n",
       "Args:\n",
       "  dataset_builder: tfds dataset builder object.\n",
       "  tfds_splits: a dictionary, that maps splits (\"train\", \"trainval\", \"val\",\n",
       "      and \"test\") to the corresponding tfds `Split` objects.\n",
       "  image_key: image key.\n",
       "  **kwargs: Additional keyword arguments for the ImageData class.\n"
      ]
     },
     "metadata": {},
     "output_type": "display_data"
    }
   ],
   "source": [
    "caltech_ds?"
   ]
  },
  {
   "cell_type": "code",
   "execution_count": null,
   "id": "5eb02b99-8b3b-4faf-951c-279caa3543ce",
   "metadata": {},
   "outputs": [],
   "source": []
  }
 ],
 "metadata": {
  "kernelspec": {
   "display_name": "tf",
   "language": "python",
   "name": "tf"
  },
  "language_info": {
   "codemirror_mode": {
    "name": "ipython",
    "version": 3
   },
   "file_extension": ".py",
   "mimetype": "text/x-python",
   "name": "python",
   "nbconvert_exporter": "python",
   "pygments_lexer": "ipython3",
   "version": "3.10.5"
  }
 },
 "nbformat": 4,
 "nbformat_minor": 5
}
