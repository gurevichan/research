{
 "cells": [
  {
   "cell_type": "code",
   "execution_count": 1,
   "id": "e6fff755-32ef-4f77-bfdf-9c6f1e80b6cc",
   "metadata": {
    "execution": {
     "iopub.execute_input": "2022-11-13T13:50:47.679520Z",
     "iopub.status.busy": "2022-11-13T13:50:47.679248Z",
     "iopub.status.idle": "2022-11-13T13:50:47.683503Z",
     "shell.execute_reply": "2022-11-13T13:50:47.682792Z",
     "shell.execute_reply.started": "2022-11-13T13:50:47.679452Z"
    },
    "tags": []
   },
   "outputs": [],
   "source": [
    "# pip install scipy"
   ]
  },
  {
   "cell_type": "code",
   "execution_count": 2,
   "id": "39788be4-79a1-41b8-a574-7d81cd88f7e8",
   "metadata": {
    "execution": {
     "iopub.execute_input": "2022-11-13T13:50:47.685719Z",
     "iopub.status.busy": "2022-11-13T13:50:47.685328Z",
     "iopub.status.idle": "2022-11-13T13:50:48.592740Z",
     "shell.execute_reply": "2022-11-13T13:50:48.591844Z",
     "shell.execute_reply.started": "2022-11-13T13:50:47.685694Z"
    },
    "tags": []
   },
   "outputs": [
    {
     "name": "stderr",
     "output_type": "stream",
     "text": [
      "/home/me.docker/.conda/envs/torch-p37/lib/python3.7/site-packages/tqdm/auto.py:22: TqdmWarning: IProgress not found. Please update jupyter and ipywidgets. See https://ipywidgets.readthedocs.io/en/stable/user_install.html\n",
      "  from .autonotebook import tqdm as notebook_tqdm\n"
     ]
    }
   ],
   "source": [
    "%load_ext autoreload\n",
    "%autoreload 2\n",
    "import torch\n",
    "from training_utils import train_model, test\n",
    "from models import BBandFChead\n",
    "\n",
    "device = torch.device('cuda' if torch.cuda.is_available() else 'cpu')"
   ]
  },
  {
   "cell_type": "code",
   "execution_count": 3,
   "id": "f071c901-ce5e-4f5d-b9fd-8a86e58469ac",
   "metadata": {
    "execution": {
     "iopub.execute_input": "2022-11-13T13:50:48.594575Z",
     "iopub.status.busy": "2022-11-13T13:50:48.594025Z",
     "iopub.status.idle": "2022-11-13T13:50:49.415477Z",
     "shell.execute_reply": "2022-11-13T13:50:49.414523Z",
     "shell.execute_reply.started": "2022-11-13T13:50:48.594551Z"
    },
    "tags": []
   },
   "outputs": [
    {
     "name": "stderr",
     "output_type": "stream",
     "text": [
      "/home/me.docker/.conda/envs/torch-p37/lib/python3.7/site-packages/torchvision/io/image.py:13: UserWarning: Failed to load image Python extension: /home/jovyan/.conda/envs/torch-p37/lib/python3.7/site-packages/torchvision/image.so: undefined symbol: _ZN5torch3jit17parseSchemaOrNameERKSs\n",
      "  warn(f\"Failed to load image Python extension: {e}\")\n"
     ]
    }
   ],
   "source": [
    "from torchvision.models import resnet50, ResNet50_Weights\n",
    "from torch import nn\n",
    "\n",
    "resnet = resnet50(weights=ResNet50_Weights.DEFAULT)\n",
    "# resnet = resnet50(pretrained=True, ) \n",
    "resnet.fc = nn.Identity() # removing pretrained last layer\n",
    "resnet_linear = BBandFChead(resnet, hidden_dim=0, output_dim=101) # creating a model with frozen bb and only a linear eval head."
   ]
  },
  {
   "cell_type": "code",
   "execution_count": 4,
   "id": "ca2ecd0e-af92-4409-8f56-ebc2b0bb0381",
   "metadata": {
    "execution": {
     "iopub.execute_input": "2022-11-13T13:50:49.416736Z",
     "iopub.status.busy": "2022-11-13T13:50:49.416528Z",
     "iopub.status.idle": "2022-11-13T13:50:49.452757Z",
     "shell.execute_reply": "2022-11-13T13:50:49.452177Z",
     "shell.execute_reply.started": "2022-11-13T13:50:49.416718Z"
    },
    "tags": []
   },
   "outputs": [
    {
     "name": "stdout",
     "output_type": "stream",
     "text": [
      "6941 1736\n"
     ]
    }
   ],
   "source": [
    "from torch.utils.data import DataLoader\n",
    "from caltech101 import load_caltech101\n",
    "\n",
    "train_dataset, test_dataset = load_caltech101(data_path=\"/home/me.docker/work/data\")\n",
    "batch_size = 64\n",
    "train_dataloader = DataLoader(train_dataset, batch_size=batch_size, shuffle=True, num_workers=1)\n",
    "test_dataloader = DataLoader(test_dataset, batch_size=batch_size, num_workers=1)\n"
   ]
  },
  {
   "cell_type": "code",
   "execution_count": null,
   "id": "2505de3a-17a5-41af-97aa-50cf9c462bd3",
   "metadata": {
    "execution": {
     "iopub.execute_input": "2022-11-13T13:50:49.453617Z",
     "iopub.status.busy": "2022-11-13T13:50:49.453464Z"
    },
    "tags": []
   },
   "outputs": [
    {
     "name": "stdout",
     "output_type": "stream",
     "text": [
      "Train; Epoch 1, Step 434: Average loss: 0.2196, Accuracy: 1979/6941 (28.51%), TPR: 35.54%, TNR: 47.81%, TNR+TPR/2: 41.67%\n",
      "Test; Epoch 1, Step 6941 (18.7s): Average loss: 2.9067, Accuracy: 818/1736 (47.12%), TPR: 67.57%, TNR: 58.18%, TNR+TPR/2: 62.87%\n",
      "Train; Epoch 2, Step 868: Average loss: 0.1457, Accuracy: 4196/6941 (60.45%), TPR: 75.12%, TNR: 73.15%, TNR+TPR/2: 74.13%\n",
      "Test; Epoch 2, Step 13882 (16.2s): Average loss: 2.2095, Accuracy: 1263/1736 (72.75%), TPR: 92.00%, TNR: 84.82%, TNR+TPR/2: 88.41%\n",
      "Train; Epoch 3, Step 1302: Average loss: 0.1060, Accuracy: 5704/6941 (82.18%), TPR: 92.10%, TNR: 88.37%, TNR+TPR/2: 90.23%\n",
      "Test; Epoch 3, Step 20823 (16.5s): Average loss: 1.7687, Accuracy: 1437/1736 (82.78%), TPR: 97.22%, TNR: 89.62%, TNR+TPR/2: 93.42%\n",
      "Train; Epoch 4, Step 1736: Average loss: 0.0798, Accuracy: 6287/6941 (90.58%), TPR: 94.75%, TNR: 94.48%, TNR+TPR/2: 94.61%\n",
      "Test; Epoch 4, Step 27764 (16.5s): Average loss: 1.4627, Accuracy: 1505/1736 (86.69%), TPR: 100.00%, TNR: 92.31%, TNR+TPR/2: 96.15%\n"
     ]
    }
   ],
   "source": [
    "resnet_linear = BBandFChead(resnet, hidden_dim=0, output_dim=101) # creating a model with frozen bb and only a linear eval head.\n",
    "train_model(resnet_linear, train_dataset=train_dataset, test_dataset=test_dataset, batch_size=16,\n",
    "            lr=0.0001, epochs=5, samples_per_epoch=None, test_max_samples=None)"
   ]
  },
  {
   "cell_type": "code",
   "execution_count": null,
   "id": "23999fde-157f-4397-b804-b68087afc722",
   "metadata": {
    "tags": []
   },
   "outputs": [],
   "source": [
    "from matplotlib import pyplot as plt\n",
    "f, axes = plt.subplots(3,3, figsize=(15,15))\n",
    "mult = len(train_dataset)//9\n",
    "for i, ax in enumerate(axes.flatten()):\n",
    "    img = train_dataset[i*mult][0].permute(1,2,0)\n",
    "    ax.imshow(img)\n",
    "    ax.title.set_text(train_dataset[i*mult][1])"
   ]
  },
  {
   "cell_type": "code",
   "execution_count": null,
   "id": "bbcf5792-dfd3-44a9-ae52-76df249fc1a3",
   "metadata": {},
   "outputs": [],
   "source": [
    "img.min()"
   ]
  },
  {
   "cell_type": "code",
   "execution_count": null,
   "id": "047f01d0-3f40-4f4a-bf41-9b3656e1bd34",
   "metadata": {},
   "outputs": [],
   "source": []
  }
 ],
 "metadata": {
  "kernelspec": {
   "display_name": "torch-p37",
   "language": "python",
   "name": "torch-p37"
  },
  "language_info": {
   "codemirror_mode": {
    "name": "ipython",
    "version": 3
   },
   "file_extension": ".py",
   "mimetype": "text/x-python",
   "name": "python",
   "nbconvert_exporter": "python",
   "pygments_lexer": "ipython3",
   "version": "3.7.12"
  },
  "widgets": {
   "application/vnd.jupyter.widget-state+json": {
    "state": {},
    "version_major": 2,
    "version_minor": 0
   }
  }
 },
 "nbformat": 4,
 "nbformat_minor": 5
}
