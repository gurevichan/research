{
 "cells": [
  {
   "cell_type": "code",
   "execution_count": null,
   "id": "bc62b0b6-f5e6-4f22-8511-44d01af4f6a0",
   "metadata": {},
   "outputs": [
    {
     "ename": "",
     "evalue": "",
     "output_type": "error",
     "traceback": [
      "\u001b[1;31mRunning cells with '/usr/bin/python3' requires ipykernel package.\n",
      "\u001b[1;31mRun the following command to install 'ipykernel' into the Python environment. \n",
      "\u001b[1;31mCommand: '/usr/bin/python3 -m pip install ipykernel -U --user --force-reinstall'"
     ]
    }
   ],
   "source": [
    "# !pip install timm torchsummary"
   ]
  },
  {
   "cell_type": "code",
   "execution_count": 1,
   "id": "94bafc70-cba7-45db-aa5d-ac981e38d7b4",
   "metadata": {},
   "outputs": [
    {
     "name": "stdout",
     "output_type": "stream",
     "text": [
      "Requirement already satisfied: timm==0.3.2 in /usr/local/lib/python3.9/dist-packages (0.3.2)\n",
      "Requirement already satisfied: torchvision in /usr/local/lib/python3.9/dist-packages (from timm==0.3.2) (0.11.3+cu111)\n",
      "Requirement already satisfied: torch>=1.0 in /usr/local/lib/python3.9/dist-packages (from timm==0.3.2) (1.10.2+cu111)\n",
      "Requirement already satisfied: typing-extensions in /usr/local/lib/python3.9/dist-packages (from torch>=1.0->timm==0.3.2) (4.2.0)\n",
      "Requirement already satisfied: numpy in /usr/local/lib/python3.9/dist-packages (from torchvision->timm==0.3.2) (1.21.0)\n",
      "Requirement already satisfied: pillow!=8.3.0,>=5.3.0 in /usr/local/lib/python3.9/dist-packages (from torchvision->timm==0.3.2) (9.1.1)\n",
      "\u001b[33mWARNING: Running pip as the 'root' user can result in broken permissions and conflicting behaviour with the system package manager. It is recommended to use a virtual environment instead: https://pip.pypa.io/warnings/venv\u001b[0m\u001b[33m\n",
      "\u001b[0m\n",
      "\u001b[1m[\u001b[0m\u001b[34;49mnotice\u001b[0m\u001b[1;39;49m]\u001b[0m\u001b[39;49m A new release of pip available: \u001b[0m\u001b[31;49m22.3\u001b[0m\u001b[39;49m -> \u001b[0m\u001b[32;49m22.3.1\u001b[0m\n",
      "\u001b[1m[\u001b[0m\u001b[34;49mnotice\u001b[0m\u001b[1;39;49m]\u001b[0m\u001b[39;49m To update, run: \u001b[0m\u001b[32;49mpython3.9 -m pip install --upgrade pip\u001b[0m\n"
     ]
    }
   ],
   "source": [
    "!pip3 install timm==0.3.2 #does not work in Colab"
   ]
  },
  {
   "cell_type": "code",
   "execution_count": 2,
   "id": "566d525e-6c4d-4817-803b-4ab3b77904d6",
   "metadata": {},
   "outputs": [],
   "source": [
    "# pip install timm==0.4.12"
   ]
  },
  {
   "cell_type": "code",
   "execution_count": 3,
   "id": "52310e41-3f89-418d-b2f8-40f1a1323f95",
   "metadata": {},
   "outputs": [],
   "source": [
    "%load_ext autoreload\n",
    "%autoreload 2\n",
    "import torch\n",
    "from utils import BBandFChead\n",
    "\n",
    "device = torch.device('cuda' if torch.cuda.is_available() else 'cpu')"
   ]
  },
  {
   "cell_type": "code",
   "execution_count": 3,
   "id": "cf2f1bfb-99e5-41bb-88f5-46d56e2e12b8",
   "metadata": {
    "collapsed": true,
    "jupyter": {
     "outputs_hidden": true,
     "source_hidden": true
    },
    "tags": []
   },
   "outputs": [
    {
     "name": "stderr",
     "output_type": "stream",
     "text": [
      "Using cache found in /root/.cache/torch/hub/facebookresearch_vicregl_main\n"
     ]
    },
    {
     "ename": "ImportError",
     "evalue": "cannot import name 'container_abcs' from 'torch._six' (/usr/local/lib/python3.9/dist-packages/torch/_six.py)",
     "output_type": "error",
     "traceback": [
      "\u001b[0;31m---------------------------------------------------------------------------\u001b[0m",
      "\u001b[0;31mImportError\u001b[0m                               Traceback (most recent call last)",
      "Input \u001b[0;32mIn [3]\u001b[0m, in \u001b[0;36m<cell line: 1>\u001b[0;34m()\u001b[0m\n\u001b[0;32m----> 1\u001b[0m model_vicregl_resnet50 \u001b[38;5;241m=\u001b[39m \u001b[43mtorch\u001b[49m\u001b[38;5;241;43m.\u001b[39;49m\u001b[43mhub\u001b[49m\u001b[38;5;241;43m.\u001b[39;49m\u001b[43mload\u001b[49m\u001b[43m(\u001b[49m\u001b[38;5;124;43m'\u001b[39;49m\u001b[38;5;124;43mfacebookresearch/vicregl:main\u001b[39;49m\u001b[38;5;124;43m'\u001b[39;49m\u001b[43m,\u001b[49m\u001b[43m \u001b[49m\u001b[38;5;124;43m'\u001b[39;49m\u001b[38;5;124;43mresnet50_alpha0p9\u001b[39;49m\u001b[38;5;124;43m'\u001b[39;49m\u001b[43m)\u001b[49m\n\u001b[1;32m      2\u001b[0m model_vicregl_resnet50\u001b[38;5;241m.\u001b[39mname \u001b[38;5;241m=\u001b[39m \u001b[38;5;124m\"\u001b[39m\u001b[38;5;124mResNet-50\u001b[39m\u001b[38;5;124m\"\u001b[39m\n\u001b[1;32m      4\u001b[0m model_vicregl_large \u001b[38;5;241m=\u001b[39m torch\u001b[38;5;241m.\u001b[39mhub\u001b[38;5;241m.\u001b[39mload(\u001b[38;5;124m'\u001b[39m\u001b[38;5;124mfacebookresearch/vicregl:main\u001b[39m\u001b[38;5;124m'\u001b[39m, \u001b[38;5;124m'\u001b[39m\u001b[38;5;124mconvnext_xlarge_alpha0p75\u001b[39m\u001b[38;5;124m'\u001b[39m)\n",
      "File \u001b[0;32m/usr/local/lib/python3.9/dist-packages/torch/hub.py:399\u001b[0m, in \u001b[0;36mload\u001b[0;34m(repo_or_dir, model, source, force_reload, verbose, skip_validation, *args, **kwargs)\u001b[0m\n\u001b[1;32m    396\u001b[0m \u001b[38;5;28;01mif\u001b[39;00m source \u001b[38;5;241m==\u001b[39m \u001b[38;5;124m'\u001b[39m\u001b[38;5;124mgithub\u001b[39m\u001b[38;5;124m'\u001b[39m:\n\u001b[1;32m    397\u001b[0m     repo_or_dir \u001b[38;5;241m=\u001b[39m _get_cache_or_reload(repo_or_dir, force_reload, verbose, skip_validation)\n\u001b[0;32m--> 399\u001b[0m model \u001b[38;5;241m=\u001b[39m \u001b[43m_load_local\u001b[49m\u001b[43m(\u001b[49m\u001b[43mrepo_or_dir\u001b[49m\u001b[43m,\u001b[49m\u001b[43m \u001b[49m\u001b[43mmodel\u001b[49m\u001b[43m,\u001b[49m\u001b[43m \u001b[49m\u001b[38;5;241;43m*\u001b[39;49m\u001b[43margs\u001b[49m\u001b[43m,\u001b[49m\u001b[43m \u001b[49m\u001b[38;5;241;43m*\u001b[39;49m\u001b[38;5;241;43m*\u001b[39;49m\u001b[43mkwargs\u001b[49m\u001b[43m)\u001b[49m\n\u001b[1;32m    400\u001b[0m \u001b[38;5;28;01mreturn\u001b[39;00m model\n",
      "File \u001b[0;32m/usr/local/lib/python3.9/dist-packages/torch/hub.py:425\u001b[0m, in \u001b[0;36m_load_local\u001b[0;34m(hubconf_dir, model, *args, **kwargs)\u001b[0m\n\u001b[1;32m    422\u001b[0m sys\u001b[38;5;241m.\u001b[39mpath\u001b[38;5;241m.\u001b[39minsert(\u001b[38;5;241m0\u001b[39m, hubconf_dir)\n\u001b[1;32m    424\u001b[0m hubconf_path \u001b[38;5;241m=\u001b[39m os\u001b[38;5;241m.\u001b[39mpath\u001b[38;5;241m.\u001b[39mjoin(hubconf_dir, MODULE_HUBCONF)\n\u001b[0;32m--> 425\u001b[0m hub_module \u001b[38;5;241m=\u001b[39m \u001b[43mimport_module\u001b[49m\u001b[43m(\u001b[49m\u001b[43mMODULE_HUBCONF\u001b[49m\u001b[43m,\u001b[49m\u001b[43m \u001b[49m\u001b[43mhubconf_path\u001b[49m\u001b[43m)\u001b[49m\n\u001b[1;32m    427\u001b[0m entry \u001b[38;5;241m=\u001b[39m _load_entry_from_hubconf(hub_module, model)\n\u001b[1;32m    428\u001b[0m model \u001b[38;5;241m=\u001b[39m entry(\u001b[38;5;241m*\u001b[39margs, \u001b[38;5;241m*\u001b[39m\u001b[38;5;241m*\u001b[39mkwargs)\n",
      "File \u001b[0;32m/usr/local/lib/python3.9/dist-packages/torch/hub.py:76\u001b[0m, in \u001b[0;36mimport_module\u001b[0;34m(name, path)\u001b[0m\n\u001b[1;32m     74\u001b[0m module \u001b[38;5;241m=\u001b[39m importlib\u001b[38;5;241m.\u001b[39mutil\u001b[38;5;241m.\u001b[39mmodule_from_spec(spec)\n\u001b[1;32m     75\u001b[0m \u001b[38;5;28;01massert\u001b[39;00m \u001b[38;5;28misinstance\u001b[39m(spec\u001b[38;5;241m.\u001b[39mloader, Loader)\n\u001b[0;32m---> 76\u001b[0m \u001b[43mspec\u001b[49m\u001b[38;5;241;43m.\u001b[39;49m\u001b[43mloader\u001b[49m\u001b[38;5;241;43m.\u001b[39;49m\u001b[43mexec_module\u001b[49m\u001b[43m(\u001b[49m\u001b[43mmodule\u001b[49m\u001b[43m)\u001b[49m\n\u001b[1;32m     77\u001b[0m \u001b[38;5;28;01mreturn\u001b[39;00m module\n",
      "File \u001b[0;32m<frozen importlib._bootstrap_external>:850\u001b[0m, in \u001b[0;36mexec_module\u001b[0;34m(self, module)\u001b[0m\n",
      "File \u001b[0;32m<frozen importlib._bootstrap>:228\u001b[0m, in \u001b[0;36m_call_with_frames_removed\u001b[0;34m(f, *args, **kwds)\u001b[0m\n",
      "File \u001b[0;32m~/.cache/torch/hub/facebookresearch_vicregl_main/hubconf.py:11\u001b[0m, in \u001b[0;36m<module>\u001b[0;34m\u001b[0m\n\u001b[1;32m      9\u001b[0m \u001b[38;5;28;01mimport\u001b[39;00m \u001b[38;5;21;01mtorch\u001b[39;00m\n\u001b[1;32m     10\u001b[0m \u001b[38;5;28;01mimport\u001b[39;00m \u001b[38;5;21;01mresnet\u001b[39;00m\n\u001b[0;32m---> 11\u001b[0m \u001b[38;5;28;01mimport\u001b[39;00m \u001b[38;5;21;01mconvnext\u001b[39;00m\n\u001b[1;32m     13\u001b[0m dependencies \u001b[38;5;241m=\u001b[39m [\u001b[38;5;124m\"\u001b[39m\u001b[38;5;124mtorch\u001b[39m\u001b[38;5;124m\"\u001b[39m, \u001b[38;5;124m\"\u001b[39m\u001b[38;5;124mtorchvision\u001b[39m\u001b[38;5;124m\"\u001b[39m]\n\u001b[1;32m     16\u001b[0m \u001b[38;5;28;01mdef\u001b[39;00m \u001b[38;5;21mresnet50_alpha0p9\u001b[39m(pretrained\u001b[38;5;241m=\u001b[39m\u001b[38;5;28;01mTrue\u001b[39;00m, \u001b[38;5;241m*\u001b[39m\u001b[38;5;241m*\u001b[39mkwargs):\n",
      "File \u001b[0;32m~/.cache/torch/hub/facebookresearch_vicregl_main/convnext.py:12\u001b[0m, in \u001b[0;36m<module>\u001b[0;34m\u001b[0m\n\u001b[1;32m     10\u001b[0m \u001b[38;5;28;01mimport\u001b[39;00m \u001b[38;5;21;01mtorch\u001b[39;00m\u001b[38;5;21;01m.\u001b[39;00m\u001b[38;5;21;01mnn\u001b[39;00m \u001b[38;5;28;01mas\u001b[39;00m \u001b[38;5;21;01mnn\u001b[39;00m\n\u001b[1;32m     11\u001b[0m \u001b[38;5;28;01mimport\u001b[39;00m \u001b[38;5;21;01mtorch\u001b[39;00m\u001b[38;5;21;01m.\u001b[39;00m\u001b[38;5;21;01mnn\u001b[39;00m\u001b[38;5;21;01m.\u001b[39;00m\u001b[38;5;21;01mfunctional\u001b[39;00m \u001b[38;5;28;01mas\u001b[39;00m \u001b[38;5;21;01mF\u001b[39;00m\n\u001b[0;32m---> 12\u001b[0m \u001b[38;5;28;01mfrom\u001b[39;00m \u001b[38;5;21;01mtimm\u001b[39;00m\u001b[38;5;21;01m.\u001b[39;00m\u001b[38;5;21;01mmodels\u001b[39;00m\u001b[38;5;21;01m.\u001b[39;00m\u001b[38;5;21;01mlayers\u001b[39;00m \u001b[38;5;28;01mimport\u001b[39;00m trunc_normal_, DropPath\n\u001b[1;32m     15\u001b[0m \u001b[38;5;28;01mclass\u001b[39;00m \u001b[38;5;21;01mBlock\u001b[39;00m(nn\u001b[38;5;241m.\u001b[39mModule):\n\u001b[1;32m     16\u001b[0m     \u001b[38;5;124mr\u001b[39m\u001b[38;5;124;03m\"\"\" ConvNeXt Block. There are two equivalent implementations:\u001b[39;00m\n\u001b[1;32m     17\u001b[0m \u001b[38;5;124;03m    (1) DwConv -> LayerNorm (channels_first) -> 1x1 Conv -> GELU -> 1x1 Conv; all in (N, C, H, W)\u001b[39;00m\n\u001b[1;32m     18\u001b[0m \u001b[38;5;124;03m    (2) DwConv -> Permute to (N, H, W, C); LayerNorm (channels_last) -> Linear -> GELU -> Linear; Permute back\u001b[39;00m\n\u001b[0;32m   (...)\u001b[0m\n\u001b[1;32m     24\u001b[0m \u001b[38;5;124;03m        layer_scale_init_value (float): Init value for Layer Scale. Default: 1e-6.\u001b[39;00m\n\u001b[1;32m     25\u001b[0m \u001b[38;5;124;03m    \"\"\"\u001b[39;00m\n",
      "File \u001b[0;32m/usr/local/lib/python3.9/dist-packages/timm/__init__.py:2\u001b[0m, in \u001b[0;36m<module>\u001b[0;34m\u001b[0m\n\u001b[1;32m      1\u001b[0m \u001b[38;5;28;01mfrom\u001b[39;00m \u001b[38;5;21;01m.\u001b[39;00m\u001b[38;5;21;01mversion\u001b[39;00m \u001b[38;5;28;01mimport\u001b[39;00m __version__\n\u001b[0;32m----> 2\u001b[0m \u001b[38;5;28;01mfrom\u001b[39;00m \u001b[38;5;21;01m.\u001b[39;00m\u001b[38;5;21;01mmodels\u001b[39;00m \u001b[38;5;28;01mimport\u001b[39;00m create_model, list_models, is_model, list_modules, model_entrypoint, \\\n\u001b[1;32m      3\u001b[0m     is_scriptable, is_exportable, set_scriptable, set_exportable\n",
      "File \u001b[0;32m/usr/local/lib/python3.9/dist-packages/timm/models/__init__.py:1\u001b[0m, in \u001b[0;36m<module>\u001b[0;34m\u001b[0m\n\u001b[0;32m----> 1\u001b[0m \u001b[38;5;28;01mfrom\u001b[39;00m \u001b[38;5;21;01m.\u001b[39;00m\u001b[38;5;21;01mcspnet\u001b[39;00m \u001b[38;5;28;01mimport\u001b[39;00m \u001b[38;5;241m*\u001b[39m\n\u001b[1;32m      2\u001b[0m \u001b[38;5;28;01mfrom\u001b[39;00m \u001b[38;5;21;01m.\u001b[39;00m\u001b[38;5;21;01mdensenet\u001b[39;00m \u001b[38;5;28;01mimport\u001b[39;00m \u001b[38;5;241m*\u001b[39m\n\u001b[1;32m      3\u001b[0m \u001b[38;5;28;01mfrom\u001b[39;00m \u001b[38;5;21;01m.\u001b[39;00m\u001b[38;5;21;01mdla\u001b[39;00m \u001b[38;5;28;01mimport\u001b[39;00m \u001b[38;5;241m*\u001b[39m\n",
      "File \u001b[0;32m/usr/local/lib/python3.9/dist-packages/timm/models/cspnet.py:20\u001b[0m, in \u001b[0;36m<module>\u001b[0;34m\u001b[0m\n\u001b[1;32m     17\u001b[0m \u001b[38;5;28;01mimport\u001b[39;00m \u001b[38;5;21;01mtorch\u001b[39;00m\u001b[38;5;21;01m.\u001b[39;00m\u001b[38;5;21;01mnn\u001b[39;00m\u001b[38;5;21;01m.\u001b[39;00m\u001b[38;5;21;01mfunctional\u001b[39;00m \u001b[38;5;28;01mas\u001b[39;00m \u001b[38;5;21;01mF\u001b[39;00m\n\u001b[1;32m     19\u001b[0m \u001b[38;5;28;01mfrom\u001b[39;00m \u001b[38;5;21;01mtimm\u001b[39;00m\u001b[38;5;21;01m.\u001b[39;00m\u001b[38;5;21;01mdata\u001b[39;00m \u001b[38;5;28;01mimport\u001b[39;00m IMAGENET_DEFAULT_MEAN, IMAGENET_DEFAULT_STD\n\u001b[0;32m---> 20\u001b[0m \u001b[38;5;28;01mfrom\u001b[39;00m \u001b[38;5;21;01m.\u001b[39;00m\u001b[38;5;21;01mhelpers\u001b[39;00m \u001b[38;5;28;01mimport\u001b[39;00m build_model_with_cfg\n\u001b[1;32m     21\u001b[0m \u001b[38;5;28;01mfrom\u001b[39;00m \u001b[38;5;21;01m.\u001b[39;00m\u001b[38;5;21;01mlayers\u001b[39;00m \u001b[38;5;28;01mimport\u001b[39;00m ClassifierHead, ConvBnAct, DropPath, create_attn, get_norm_act_layer\n\u001b[1;32m     22\u001b[0m \u001b[38;5;28;01mfrom\u001b[39;00m \u001b[38;5;21;01m.\u001b[39;00m\u001b[38;5;21;01mregistry\u001b[39;00m \u001b[38;5;28;01mimport\u001b[39;00m register_model\n",
      "File \u001b[0;32m/usr/local/lib/python3.9/dist-packages/timm/models/helpers.py:17\u001b[0m, in \u001b[0;36m<module>\u001b[0;34m\u001b[0m\n\u001b[1;32m     14\u001b[0m \u001b[38;5;28;01mimport\u001b[39;00m \u001b[38;5;21;01mtorch\u001b[39;00m\u001b[38;5;21;01m.\u001b[39;00m\u001b[38;5;21;01mutils\u001b[39;00m\u001b[38;5;21;01m.\u001b[39;00m\u001b[38;5;21;01mmodel_zoo\u001b[39;00m \u001b[38;5;28;01mas\u001b[39;00m \u001b[38;5;21;01mmodel_zoo\u001b[39;00m\n\u001b[1;32m     16\u001b[0m \u001b[38;5;28;01mfrom\u001b[39;00m \u001b[38;5;21;01m.\u001b[39;00m\u001b[38;5;21;01mfeatures\u001b[39;00m \u001b[38;5;28;01mimport\u001b[39;00m FeatureListNet, FeatureDictNet, FeatureHookNet\n\u001b[0;32m---> 17\u001b[0m \u001b[38;5;28;01mfrom\u001b[39;00m \u001b[38;5;21;01m.\u001b[39;00m\u001b[38;5;21;01mlayers\u001b[39;00m \u001b[38;5;28;01mimport\u001b[39;00m Conv2dSame, Linear\n\u001b[1;32m     20\u001b[0m _logger \u001b[38;5;241m=\u001b[39m logging\u001b[38;5;241m.\u001b[39mgetLogger(\u001b[38;5;18m__name__\u001b[39m)\n\u001b[1;32m     23\u001b[0m \u001b[38;5;28;01mdef\u001b[39;00m \u001b[38;5;21mload_state_dict\u001b[39m(checkpoint_path, use_ema\u001b[38;5;241m=\u001b[39m\u001b[38;5;28;01mFalse\u001b[39;00m):\n",
      "File \u001b[0;32m/usr/local/lib/python3.9/dist-packages/timm/models/layers/__init__.py:7\u001b[0m, in \u001b[0;36m<module>\u001b[0;34m\u001b[0m\n\u001b[1;32m      5\u001b[0m \u001b[38;5;28;01mfrom\u001b[39;00m \u001b[38;5;21;01m.\u001b[39;00m\u001b[38;5;21;01mblur_pool\u001b[39;00m \u001b[38;5;28;01mimport\u001b[39;00m BlurPool2d\n\u001b[1;32m      6\u001b[0m \u001b[38;5;28;01mfrom\u001b[39;00m \u001b[38;5;21;01m.\u001b[39;00m\u001b[38;5;21;01mclassifier\u001b[39;00m \u001b[38;5;28;01mimport\u001b[39;00m ClassifierHead, create_classifier\n\u001b[0;32m----> 7\u001b[0m \u001b[38;5;28;01mfrom\u001b[39;00m \u001b[38;5;21;01m.\u001b[39;00m\u001b[38;5;21;01mcond_conv2d\u001b[39;00m \u001b[38;5;28;01mimport\u001b[39;00m CondConv2d, get_condconv_initializer\n\u001b[1;32m      8\u001b[0m \u001b[38;5;28;01mfrom\u001b[39;00m \u001b[38;5;21;01m.\u001b[39;00m\u001b[38;5;21;01mconfig\u001b[39;00m \u001b[38;5;28;01mimport\u001b[39;00m is_exportable, is_scriptable, is_no_jit, set_exportable, set_scriptable, set_no_jit,\\\n\u001b[1;32m      9\u001b[0m     set_layer_config\n\u001b[1;32m     10\u001b[0m \u001b[38;5;28;01mfrom\u001b[39;00m \u001b[38;5;21;01m.\u001b[39;00m\u001b[38;5;21;01mconv2d_same\u001b[39;00m \u001b[38;5;28;01mimport\u001b[39;00m Conv2dSame\n",
      "File \u001b[0;32m/usr/local/lib/python3.9/dist-packages/timm/models/layers/cond_conv2d.py:16\u001b[0m, in \u001b[0;36m<module>\u001b[0;34m\u001b[0m\n\u001b[1;32m     13\u001b[0m \u001b[38;5;28;01mfrom\u001b[39;00m \u001b[38;5;21;01mtorch\u001b[39;00m \u001b[38;5;28;01mimport\u001b[39;00m nn \u001b[38;5;28;01mas\u001b[39;00m nn\n\u001b[1;32m     14\u001b[0m \u001b[38;5;28;01mfrom\u001b[39;00m \u001b[38;5;21;01mtorch\u001b[39;00m\u001b[38;5;21;01m.\u001b[39;00m\u001b[38;5;21;01mnn\u001b[39;00m \u001b[38;5;28;01mimport\u001b[39;00m functional \u001b[38;5;28;01mas\u001b[39;00m F\n\u001b[0;32m---> 16\u001b[0m \u001b[38;5;28;01mfrom\u001b[39;00m \u001b[38;5;21;01m.\u001b[39;00m\u001b[38;5;21;01mhelpers\u001b[39;00m \u001b[38;5;28;01mimport\u001b[39;00m to_2tuple\n\u001b[1;32m     17\u001b[0m \u001b[38;5;28;01mfrom\u001b[39;00m \u001b[38;5;21;01m.\u001b[39;00m\u001b[38;5;21;01mconv2d_same\u001b[39;00m \u001b[38;5;28;01mimport\u001b[39;00m conv2d_same\n\u001b[1;32m     18\u001b[0m \u001b[38;5;28;01mfrom\u001b[39;00m \u001b[38;5;21;01m.\u001b[39;00m\u001b[38;5;21;01mpadding\u001b[39;00m \u001b[38;5;28;01mimport\u001b[39;00m get_padding_value\n",
      "File \u001b[0;32m/usr/local/lib/python3.9/dist-packages/timm/models/layers/helpers.py:6\u001b[0m, in \u001b[0;36m<module>\u001b[0;34m\u001b[0m\n\u001b[1;32m      1\u001b[0m \u001b[38;5;124;03m\"\"\" Layer/Module Helpers\u001b[39;00m\n\u001b[1;32m      2\u001b[0m \n\u001b[1;32m      3\u001b[0m \u001b[38;5;124;03mHacked together by / Copyright 2020 Ross Wightman\u001b[39;00m\n\u001b[1;32m      4\u001b[0m \u001b[38;5;124;03m\"\"\"\u001b[39;00m\n\u001b[1;32m      5\u001b[0m \u001b[38;5;28;01mfrom\u001b[39;00m \u001b[38;5;21;01mitertools\u001b[39;00m \u001b[38;5;28;01mimport\u001b[39;00m repeat\n\u001b[0;32m----> 6\u001b[0m \u001b[38;5;28;01mfrom\u001b[39;00m \u001b[38;5;21;01mtorch\u001b[39;00m\u001b[38;5;21;01m.\u001b[39;00m\u001b[38;5;21;01m_six\u001b[39;00m \u001b[38;5;28;01mimport\u001b[39;00m container_abcs\n\u001b[1;32m      9\u001b[0m \u001b[38;5;66;03m# From PyTorch internals\u001b[39;00m\n\u001b[1;32m     10\u001b[0m \u001b[38;5;28;01mdef\u001b[39;00m \u001b[38;5;21m_ntuple\u001b[39m(n):\n",
      "\u001b[0;31mImportError\u001b[0m: cannot import name 'container_abcs' from 'torch._six' (/usr/local/lib/python3.9/dist-packages/torch/_six.py)"
     ]
    }
   ],
   "source": []
  },
  {
   "cell_type": "code",
   "execution_count": 5,
   "id": "4dac20db-542e-40e6-a6ed-7db48587ab88",
   "metadata": {},
   "outputs": [
    {
     "name": "stderr",
     "output_type": "stream",
     "text": [
      "Downloading: \"https://conversationhub.blob.core.windows.net/beit-share-public/beit/beit_large_patch16_224_pt22k.pth\" to /root/.cache/torch/hub/checkpoints/beit_large_patch16_224_pt22k.pth\n"
     ]
    },
    {
     "data": {
      "application/vnd.jupyter.widget-view+json": {
       "model_id": "7ff67ba2293d41f294d32be1ae9ab17f",
       "version_major": 2,
       "version_minor": 0
      },
      "text/plain": [
       "  0%|          | 0.00/1.16G [00:00<?, ?B/s]"
      ]
     },
     "metadata": {},
     "output_type": "display_data"
    }
   ],
   "source": [
    "ckp_path = \"https://conversationhub.blob.core.windows.net/beit-share-public/beit/beit_large_patch16_224_pt22k.pth\"\n",
    "checkpoint = torch.hub.load_state_dict_from_url(ckp_path, map_location='cpu', check_hash=True)"
   ]
  },
  {
   "cell_type": "code",
   "execution_count": 4,
   "id": "06e4a187-6273-4e66-a87a-b08943215ac9",
   "metadata": {},
   "outputs": [],
   "source": [
    "import sys\n",
    "sys.path.append(\"/mobileye/ALGO_VAST/mobileye-team-angie/andreyg/data-mining-research/data_mining_research/momo/\")"
   ]
  },
  {
   "cell_type": "code",
   "execution_count": 5,
   "id": "57ba500a-b158-4d9f-b0c0-e6220c32d19c",
   "metadata": {},
   "outputs": [
    {
     "name": "stderr",
     "output_type": "stream",
     "text": [
      "100%|███████████████████████████████████████████████████████████████████████████████████████████████████████████████████████████████| 4/4 [00:00<00:00, 7671.34it/s]\n",
      "100%|███████████████████████████████████████████████████████████████████████████████████████████████████████████████████████████████| 4/4 [00:00<00:00, 9592.46it/s]"
     ]
    },
    {
     "name": "stdout",
     "output_type": "stream",
     "text": [
      "9346338 1739545\n"
     ]
    },
    {
     "name": "stderr",
     "output_type": "stream",
     "text": [
      "\n"
     ]
    }
   ],
   "source": [
    "import torch.optim as optim\n",
    "from torch.utils.data import DataLoader\n",
    "from utils import train_model\n",
    "\n",
    "from src.data_utils import get_momo_data\n",
    "from src.sample_policy import get_sampler\n",
    "from src.sample_policy import RandomSampler\n",
    "\n",
    "\n",
    "data_path = \"/root/tal/repos/data-mining-research/data_mining_research/momo/data/\"\n",
    "train_dataset = get_momo_data(train=True, data_path=data_path, load_clip=False, load_images=True, small=False)\n",
    "test_dataset = get_momo_data(train=False, data_path=data_path, load_clip=False, load_images=True)\n",
    "input_dim = train_dataset[0][0].shape\n",
    "output_dim = 2\n",
    "print(len(train_dataset), len(test_dataset))"
   ]
  },
  {
   "cell_type": "code",
   "execution_count": 6,
   "id": "59e24352-db07-4bb4-88cf-8660c18df06c",
   "metadata": {},
   "outputs": [],
   "source": [
    "# for lr in [0.01, 0.001, 0.0001, 0.00001]:\n",
    "#     vic_resnet50_and_head = BBandFChead(model_vicregl_resnet50)\n",
    "#     print(f'ResNet50 with lr={lr}')\n",
    "#     train_model(vic_resnet50_and_head, train_dataset=train_dataset, test_dataset=test_dataset, lr=lr, epochs=10)"
   ]
  },
  {
   "cell_type": "code",
   "execution_count": 6,
   "id": "daf4d17d-e8ab-4de3-87b9-d7dab09f077e",
   "metadata": {},
   "outputs": [
    {
     "name": "stdout",
     "output_type": "stream",
     "text": [
      "ConvNeXt-XL: train_bb False, hidden_dim 16, lr=0.001\n",
      "Step 10000: Test (29.0s): Average loss: 0.2452, Accuracy: 936/1024 (91.41%), TPR: 95.37%, TNR: 86.58%, TNR+TPR/2: 90.98%\n",
      "Step 20000: Test (21.3s): Average loss: 0.1879, Accuracy: 951/1024 (92.87%), TPR: 96.44%, TNR: 88.53%, TNR+TPR/2: 92.48%\n",
      "Step 30000: Test (22.3s): Average loss: 0.1558, Accuracy: 959/1024 (93.65%), TPR: 96.80%, TNR: 89.83%, TNR+TPR/2: 93.31%\n",
      "Step 40000: Test (22.3s): Average loss: 0.1503, Accuracy: 963/1024 (94.04%), TPR: 97.33%, TNR: 90.04%, TNR+TPR/2: 93.69%\n",
      "Step 50000: Test (21.6s): Average loss: 0.1433, Accuracy: 967/1024 (94.43%), TPR: 97.15%, TNR: 91.13%, TNR+TPR/2: 94.14%\n",
      "Step 60000: Test (22.4s): Average loss: 0.1299, Accuracy: 971/1024 (94.82%), TPR: 96.80%, TNR: 92.42%, TNR+TPR/2: 94.61%\n",
      "Step 70000: Test (22.5s): Average loss: 0.1216, Accuracy: 970/1024 (94.73%), TPR: 95.73%, TNR: 93.51%, TNR+TPR/2: 94.62%\n",
      "Step 80000: Test (14.5s): Average loss: 0.1406, Accuracy: 965/1024 (94.24%), TPR: 95.91%, TNR: 92.21%, TNR+TPR/2: 94.06%\n",
      "Step 90000: Test (10.1s): Average loss: 0.1053, Accuracy: 976/1024 (95.31%), TPR: 94.84%, TNR: 95.89%, TNR+TPR/2: 95.36%\n",
      "Step 100000: Test (10.1s): Average loss: 0.1205, Accuracy: 977/1024 (95.41%), TPR: 97.15%, TNR: 93.29%, TNR+TPR/2: 95.22%\n",
      "Step 110000: Test (10.1s): Average loss: 0.1214, Accuracy: 979/1024 (95.61%), TPR: 98.04%, TNR: 92.64%, TNR+TPR/2: 95.34%\n"
     ]
    },
    {
     "ename": "KeyboardInterrupt",
     "evalue": "",
     "output_type": "error",
     "traceback": [
      "\u001b[0;31m---------------------------------------------------------------------------\u001b[0m",
      "\u001b[0;31mKeyboardInterrupt\u001b[0m                         Traceback (most recent call last)",
      "Input \u001b[0;32mIn [6]\u001b[0m, in \u001b[0;36m<cell line: 1>\u001b[0;34m()\u001b[0m\n\u001b[1;32m      5\u001b[0m curr_model \u001b[38;5;241m=\u001b[39m BBandFChead(model, hidden_dim\u001b[38;5;241m=\u001b[39mhidden_dim, train_bb\u001b[38;5;241m=\u001b[39mtrain_bb)\n\u001b[1;32m      6\u001b[0m \u001b[38;5;28mprint\u001b[39m(\u001b[38;5;124mf\u001b[39m\u001b[38;5;124m'\u001b[39m\u001b[38;5;132;01m{\u001b[39;00mmodel\u001b[38;5;241m.\u001b[39mname\u001b[38;5;132;01m}\u001b[39;00m\u001b[38;5;124m: train_bb \u001b[39m\u001b[38;5;132;01m{\u001b[39;00mtrain_bb\u001b[38;5;132;01m}\u001b[39;00m\u001b[38;5;124m, hidden_dim \u001b[39m\u001b[38;5;132;01m{\u001b[39;00mhidden_dim\u001b[38;5;132;01m}\u001b[39;00m\u001b[38;5;124m, lr=\u001b[39m\u001b[38;5;132;01m{\u001b[39;00mlr\u001b[38;5;132;01m}\u001b[39;00m\u001b[38;5;124m'\u001b[39m)\n\u001b[0;32m----> 7\u001b[0m \u001b[43mtrain_model\u001b[49m\u001b[43m(\u001b[49m\u001b[43mcurr_model\u001b[49m\u001b[43m,\u001b[49m\u001b[43m \u001b[49m\u001b[43mtrain_dataset\u001b[49m\u001b[38;5;241;43m=\u001b[39;49m\u001b[43mtrain_dataset\u001b[49m\u001b[43m,\u001b[49m\u001b[43m \u001b[49m\u001b[43mtest_dataset\u001b[49m\u001b[38;5;241;43m=\u001b[39;49m\u001b[43mtest_dataset\u001b[49m\u001b[43m,\u001b[49m\u001b[43m \u001b[49m\u001b[43mlr\u001b[49m\u001b[38;5;241;43m=\u001b[39;49m\u001b[43mlr\u001b[49m\u001b[43m,\u001b[49m\u001b[43m \u001b[49m\u001b[43mepochs\u001b[49m\u001b[38;5;241;43m=\u001b[39;49m\u001b[38;5;241;43m20\u001b[39;49m\u001b[43m)\u001b[49m\n",
      "File \u001b[0;32m/mobileye/ALGO_VAST/mobileye-team-angie/andreyg/utils.py:125\u001b[0m, in \u001b[0;36mtrain_model\u001b[0;34m(model, train_dataset, test_dataset, epochs, samples_per_epoch, log_interval, batch_size, lr)\u001b[0m\n\u001b[1;32m    123\u001b[0m \u001b[38;5;28;01mfor\u001b[39;00m e \u001b[38;5;129;01min\u001b[39;00m \u001b[38;5;28mrange\u001b[39m(epochs):\n\u001b[1;32m    124\u001b[0m     start \u001b[38;5;241m=\u001b[39m time\u001b[38;5;241m.\u001b[39mtime()\n\u001b[0;32m--> 125\u001b[0m     \u001b[43mtrain_epoch\u001b[49m\u001b[43m(\u001b[49m\u001b[43mmodel\u001b[49m\u001b[43m,\u001b[49m\u001b[43m \u001b[49m\u001b[43mtrain_dataloader\u001b[49m\u001b[43m,\u001b[49m\u001b[43m \u001b[49m\u001b[43moptimizer\u001b[49m\u001b[38;5;241;43m=\u001b[39;49m\u001b[43moptimizer\u001b[49m\u001b[43m,\u001b[49m\u001b[43m \u001b[49m\n\u001b[1;32m    126\u001b[0m \u001b[43m                \u001b[49m\u001b[43mmax_samples\u001b[49m\u001b[38;5;241;43m=\u001b[39;49m\u001b[43msamples_per_epoch\u001b[49m\u001b[43m,\u001b[49m\u001b[43m \u001b[49m\u001b[43mlog_interval\u001b[49m\u001b[38;5;241;43m=\u001b[39;49m\u001b[43mlog_interval\u001b[49m\u001b[43m,\u001b[49m\u001b[43m \u001b[49m\u001b[43mepoch\u001b[49m\u001b[38;5;241;43m=\u001b[39;49m\u001b[43me\u001b[49m\u001b[43m,\u001b[49m\u001b[43m \u001b[49m\u001b[43msilent\u001b[49m\u001b[38;5;241;43m=\u001b[39;49m\u001b[38;5;28;43;01mTrue\u001b[39;49;00m\u001b[43m)\u001b[49m\n\u001b[1;32m    127\u001b[0m     test(model, test_dataloader, max_samples\u001b[38;5;241m=\u001b[39m\u001b[38;5;241m1000\u001b[39m, header_str\u001b[38;5;241m=\u001b[39m\u001b[38;5;124mf\u001b[39m\u001b[38;5;124m'\u001b[39m\u001b[38;5;124mStep \u001b[39m\u001b[38;5;132;01m{\u001b[39;00m(e\u001b[38;5;241m+\u001b[39m\u001b[38;5;241m1\u001b[39m)\u001b[38;5;241m*\u001b[39msamples_per_epoch\u001b[38;5;132;01m}\u001b[39;00m\u001b[38;5;124m: Test (\u001b[39m\u001b[38;5;132;01m{\u001b[39;00mtime\u001b[38;5;241m.\u001b[39mtime() \u001b[38;5;241m-\u001b[39m start\u001b[38;5;132;01m:\u001b[39;00m\u001b[38;5;124m.1f\u001b[39m\u001b[38;5;132;01m}\u001b[39;00m\u001b[38;5;124ms)\u001b[39m\u001b[38;5;124m'\u001b[39m)\n",
      "File \u001b[0;32m/mobileye/ALGO_VAST/mobileye-team-angie/andreyg/utils.py:80\u001b[0m, in \u001b[0;36mtrain_epoch\u001b[0;34m(model, train_dataloader, optimizer, max_samples, epoch, log_interval, silent)\u001b[0m\n\u001b[1;32m     75\u001b[0m     _print_train(silent, epoch, step, batch_size\u001b[38;5;241m=\u001b[39mtrain_dataloader\u001b[38;5;241m.\u001b[39mbatch_size, \n\u001b[1;32m     76\u001b[0m                  dataset_length\u001b[38;5;241m=\u001b[39m\u001b[38;5;28mlen\u001b[39m(train_dataloader) \u001b[38;5;28;01mif\u001b[39;00m max_samples \u001b[38;5;129;01mis\u001b[39;00m \u001b[38;5;28;01mNone\u001b[39;00m \u001b[38;5;28;01melse\u001b[39;00m max_samples,\n\u001b[1;32m     77\u001b[0m                  loss\u001b[38;5;241m=\u001b[39mloss)\n\u001b[1;32m     79\u001b[0m step \u001b[38;5;241m+\u001b[39m\u001b[38;5;241m=\u001b[39m \u001b[38;5;241m1\u001b[39m\n\u001b[0;32m---> 80\u001b[0m total_loss \u001b[38;5;241m+\u001b[39m\u001b[38;5;241m=\u001b[39m \u001b[43mloss\u001b[49m\u001b[38;5;241;43m.\u001b[39;49m\u001b[43mitem\u001b[49m\u001b[43m(\u001b[49m\u001b[43m)\u001b[49m\n\u001b[1;32m     81\u001b[0m \u001b[38;5;28;01mif\u001b[39;00m (max_samples \u001b[38;5;129;01mis\u001b[39;00m \u001b[38;5;129;01mnot\u001b[39;00m \u001b[38;5;28;01mNone\u001b[39;00m) \u001b[38;5;129;01mand\u001b[39;00m (step \u001b[38;5;241m*\u001b[39m train_dataloader\u001b[38;5;241m.\u001b[39mbatch_size \u001b[38;5;241m>\u001b[39m max_samples):\n\u001b[1;32m     82\u001b[0m     _print_train(silent, epoch, step, batch_size\u001b[38;5;241m=\u001b[39mtrain_dataloader\u001b[38;5;241m.\u001b[39mbatch_size, \n\u001b[1;32m     83\u001b[0m                  dataset_length\u001b[38;5;241m=\u001b[39m\u001b[38;5;28mlen\u001b[39m(train_dataloader) \u001b[38;5;28;01mif\u001b[39;00m max_samples \u001b[38;5;129;01mis\u001b[39;00m \u001b[38;5;28;01mNone\u001b[39;00m \u001b[38;5;28;01melse\u001b[39;00m max_samples,\n\u001b[1;32m     84\u001b[0m                  loss\u001b[38;5;241m=\u001b[39mloss)\n",
      "\u001b[0;31mKeyboardInterrupt\u001b[0m: "
     ]
    }
   ],
   "source": [
    "for train_bb in [False, True]:\n",
    "    for model in [model_vicregl_large, model_vicregl_resnet50]:\n",
    "        for hidden_dim in [16, 32, 64]:\n",
    "            for lr in [0.001, 0.0001]:\n",
    "                curr_model = BBandFChead(model, hidden_dim=hidden_dim, train_bb=train_bb)\n",
    "                print(f'{model.name}: train_bb {train_bb}, hidden_dim {hidden_dim}, lr={lr}')\n",
    "                train_model(curr_model, train_dataset=train_dataset, test_dataset=test_dataset, lr=lr, epochs=20)"
   ]
  },
  {
   "cell_type": "code",
   "execution_count": 7,
   "id": "94ed51a6-1d3a-411a-bea4-74f3add12e5b",
   "metadata": {},
   "outputs": [
    {
     "name": "stderr",
     "output_type": "stream",
     "text": [
      "WARNING:root:Bagua cannot detect bundled NCCL library, Bagua will try to use system NCCL instead. If you encounter any error, please run `import bagua_core; bagua_core.install_deps()` or the `bagua_install_deps.py` script to install bundled libraries.\n"
     ]
    },
    {
     "name": "stdout",
     "output_type": "stream",
     "text": [
      "ResNet18 with lr=0.001\n",
      "Step 10000: Test (18.9s): Average loss: 0.5994, Accuracy: 709/1024 (69.24%), TPR: 89.86%, TNR: 44.16%, TNR+TPR/2: 67.01%\n",
      "Step 20000: Test (18.8s): Average loss: 0.4833, Accuracy: 771/1024 (75.29%), TPR: 81.32%, TNR: 67.97%, TNR+TPR/2: 74.64%\n",
      "Step 30000: Test (18.8s): Average loss: 0.5121, Accuracy: 758/1024 (74.02%), TPR: 65.12%, TNR: 84.85%, TNR+TPR/2: 74.99%\n",
      "Step 40000: Test (18.8s): Average loss: 0.6121, Accuracy: 727/1024 (71.00%), TPR: 58.36%, TNR: 86.36%, TNR+TPR/2: 72.36%\n",
      "Step 50000: Test (18.8s): Average loss: 0.4289, Accuracy: 819/1024 (79.98%), TPR: 79.36%, TNR: 80.74%, TNR+TPR/2: 80.05%\n",
      "Step 60000: Test (18.9s): Average loss: 0.4555, Accuracy: 814/1024 (79.49%), TPR: 65.30%, TNR: 96.75%, TNR+TPR/2: 81.03%\n",
      "Step 70000: Test (18.9s): Average loss: 0.4103, Accuracy: 831/1024 (81.15%), TPR: 69.75%, TNR: 95.02%, TNR+TPR/2: 82.39%\n",
      "Step 80000: Test (18.8s): Average loss: 0.3986, Accuracy: 842/1024 (82.23%), TPR: 70.64%, TNR: 96.32%, TNR+TPR/2: 83.48%\n",
      "Step 90000: Test (18.8s): Average loss: 0.4349, Accuracy: 847/1024 (82.71%), TPR: 70.11%, TNR: 98.05%, TNR+TPR/2: 84.08%\n",
      "Step 100000: Test (18.8s): Average loss: 0.2366, Accuracy: 928/1024 (90.62%), TPR: 94.31%, TNR: 86.15%, TNR+TPR/2: 90.23%\n",
      "Step 110000: Test (18.8s): Average loss: 0.3676, Accuracy: 868/1024 (84.77%), TPR: 77.22%, TNR: 93.94%, TNR+TPR/2: 85.58%\n",
      "Step 120000: Test (18.8s): Average loss: 0.4830, Accuracy: 837/1024 (81.74%), TPR: 69.57%, TNR: 96.54%, TNR+TPR/2: 83.05%\n",
      "Step 130000: Test (18.8s): Average loss: 0.3847, Accuracy: 878/1024 (85.74%), TPR: 83.45%, TNR: 88.53%, TNR+TPR/2: 85.99%\n",
      "Step 140000: Test (18.8s): Average loss: 0.3888, Accuracy: 879/1024 (85.84%), TPR: 80.60%, TNR: 92.21%, TNR+TPR/2: 86.41%\n",
      "Step 150000: Test (18.8s): Average loss: 0.3031, Accuracy: 907/1024 (88.57%), TPR: 88.97%, TNR: 88.10%, TNR+TPR/2: 88.53%\n",
      "Step 160000: Test (18.8s): Average loss: 0.7144, Accuracy: 839/1024 (81.93%), TPR: 69.40%, TNR: 97.19%, TNR+TPR/2: 83.29%\n",
      "Step 170000: Test (18.9s): Average loss: 0.4842, Accuracy: 885/1024 (86.43%), TPR: 92.35%, TNR: 79.22%, TNR+TPR/2: 85.78%\n",
      "Step 180000: Test (18.8s): Average loss: 0.6494, Accuracy: 873/1024 (85.25%), TPR: 94.31%, TNR: 74.24%, TNR+TPR/2: 84.27%\n",
      "Step 190000: Test (18.8s): Average loss: 0.5129, Accuracy: 907/1024 (88.57%), TPR: 94.66%, TNR: 81.17%, TNR+TPR/2: 87.92%\n",
      "Step 200000: Test (18.8s): Average loss: 0.3151, Accuracy: 930/1024 (90.82%), TPR: 91.46%, TNR: 90.04%, TNR+TPR/2: 90.75%\n"
     ]
    }
   ],
   "source": [
    "from src.models import modified_res18\n",
    "\n",
    "for lr in [0.001]:\n",
    "    res18 = modified_res18()\n",
    "    print(f'ResNet18 with lr={lr}')\n",
    "    train_model(res18, train_dataset=train_dataset, test_dataset=test_dataset, lr=lr, epochs=20)"
   ]
  },
  {
   "cell_type": "code",
   "execution_count": null,
   "id": "1c353d91-d29e-4d27-a984-5a0097259b56",
   "metadata": {
    "tags": []
   },
   "outputs": [],
   "source": [
    "# from utils import train_epoch\n",
    "# from utils import test\n",
    "# from src.models import modified_res18\n",
    "\n",
    "# res18 = modified_res18()\n",
    "# train_model(res18, train_dataset, test_dataset)"
   ]
  },
  {
   "cell_type": "code",
   "execution_count": null,
   "id": "3d407488-b0cb-491e-8e0a-5e2bf1ddb225",
   "metadata": {},
   "outputs": [],
   "source": [
    "# train_model(vic_large_and_head, train_dataset, test_dataset)"
   ]
  },
  {
   "cell_type": "code",
   "execution_count": null,
   "id": "ed11255d-811a-4c8a-b791-a1d5d8515d57",
   "metadata": {},
   "outputs": [],
   "source": [
    "import matplotlib.pyplot as plt\n",
    "for data, _, target, _, _ in test_dataloader:\n",
    "    break\n",
    "data = data.to(device)\n",
    "pred = model(data)"
   ]
  },
  {
   "cell_type": "code",
   "execution_count": null,
   "id": "86983b39-083f-4e7d-8821-16f38bce8562",
   "metadata": {},
   "outputs": [],
   "source": [
    "!pip install torchsummary"
   ]
  },
  {
   "cell_type": "code",
   "execution_count": null,
   "id": "91d5a978-8d1d-4d05-ba70-7fac5ef0184f",
   "metadata": {},
   "outputs": [],
   "source": [
    "f, axes = plt.subplots(3,3, figsize=(15, 15))\n",
    "f.fig_size = [12,12]\n",
    "for i, ax in enumerate(axes.flatten()):\n",
    "    ax.imshow(data[i,0].cpu(), cmap='gray')\n",
    "    ax.title.set_text(pred[i].cpu().detach().numpy())"
   ]
  }
 ],
 "metadata": {
  "kernelspec": {
   "display_name": "Python 3 (ipykernel)",
   "language": "python",
   "name": "python3"
  },
  "language_info": {
   "codemirror_mode": {
    "name": "ipython",
    "version": 3
   },
   "file_extension": ".py",
   "mimetype": "text/x-python",
   "name": "python",
   "nbconvert_exporter": "python",
   "pygments_lexer": "ipython3",
   "version": "3.9.13"
  },
  "vscode": {
   "interpreter": {
    "hash": "31f2aee4e71d21fbe5cf8b01ff0e069b9275f58929596ceb00d14d90e3e16cd6"
   }
  }
 },
 "nbformat": 4,
 "nbformat_minor": 5
}
